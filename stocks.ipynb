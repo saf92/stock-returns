{
 "cells": [
  {
   "cell_type": "code",
   "execution_count": 1,
   "id": "cd49a2cc-dfa4-4d4e-a177-d97d719a5f71",
   "metadata": {},
   "outputs": [],
   "source": [
    "# Packages\n",
    "\n",
    "import pandas as pd\n",
    "import numpy as np\n",
    "import matplotlib.pyplot as plt\n",
    "import matplotlib.dates as mdates\n",
    "from datetime import datetime\n",
    "from dateutil.relativedelta import relativedelta\n",
    "from scipy import stats\n",
    "from scipy.stats import norm\n",
    "from scipy.stats import uniform\n",
    "from scipy.stats import levy_stable\n",
    "from scipy.optimize import least_squares\n",
    "from scipy.optimize import minimize\n",
    "import yfinance as yf #https://pypi.org/project/yfinance/\n",
    "from selenium import webdriver\n",
    "from selenium.webdriver.common.by import By\n",
    "import time"
   ]
  },
  {
   "cell_type": "code",
   "execution_count": 2,
   "id": "6d78c6df-ed0b-4686-9dd8-59c3584bbb5b",
   "metadata": {},
   "outputs": [],
   "source": [
    "# Functions and classes\n",
    "\n",
    "class return_functions:\n",
    "    \n",
    "     def __init__(self,stock_prices):\n",
    "        self.stock_prices = stock_prices\n",
    "\n",
    "     def get_index_array(self):\n",
    "        '''\n",
    "        This function outputs array that indexes only \n",
    "        to the not nans in the stock prices. MAY NOT BE NECESSARY\n",
    "        '''\n",
    "        ind_not_nan=np.where(np.isnan(self.stock_prices)==False)[0]\n",
    "        return ind_not_nan\n",
    "    \n",
    "     def log_returns(self):\n",
    "        '''\n",
    "        Finds log returns of array of stock prices.\n",
    "        See https://gregorygundersen.com/blog/2022/02/06/log-returns/\n",
    "        Input: stock prices object\n",
    "        Output: float array of log returns\n",
    "        '''\n",
    "        ind_not_nan = self.get_index_array()\n",
    "        stock_prices_f=np.asarray(self.stock_prices[ind_not_nan],float) \n",
    "        return np.log(stock_prices_f[1:]/stock_prices_f[:-1])\n",
    "\n",
    "     def get_kernel_density(self):\n",
    "        '''Outputs x and y axis of kernel density of log-returns. NOT USED.'''\n",
    "        log_returns_s=self.log_returns()\n",
    "        density = stats.gaussian_kde(log_returns_s)\n",
    "        x = np.linspace(log_returns_s.min(), log_returns_s.max())\n",
    "        y = density.evaluate(x)\n",
    "        return x, y\n",
    "\n",
    "     def normal_fit(self):\n",
    "         '''Outputs x and y axis of normal pdf fit of log-returns. NOT USED.'''\n",
    "         log_returns_s=self.log_returns()\n",
    "         mu,sigma=np.mean(log_returns_s), np.std(log_returns_s)\n",
    "         x = np.linspace(log_returns_s.min(), log_returns_s.max())\n",
    "         y = norm.pdf(x,mu,sigma)\n",
    "         return x, y\n",
    "\n",
    "     def abs_returns_empirical_tail(self):\n",
    "         '''Gets the empirical tail of the absolute value of log-returns. NOT USED.'''\n",
    "         log_returns_s = self.log_returns()\n",
    "         abs_log_returns = np.abs(log_returns_s)\n",
    "         x, y = empirical_fns(abs_log_returns).empirical_tail()\n",
    "         return x, y\n",
    "\n",
    "class empirical_fns:\n",
    "\n",
    "    def __init__(self,data):\n",
    "        self.data = data\n",
    "        \n",
    "    def empirical_cdf(self):\n",
    "        \"\"\"\n",
    "        From ChatGPT with minor adjustments.\n",
    "        Calculate the empirical cumulative distribution function (ECDF) of the given data.\n",
    "    \n",
    "        Inputs:\n",
    "        data (array-like): Input data array.\n",
    "    \n",
    "        Returns:\n",
    "        x (array): Sorted unique values of the input data.\n",
    "        y (array): Empirical cumulative probabilities corresponding to the sorted unique values.\n",
    "        \"\"\"\n",
    "        # Sort the data\n",
    "        sorted_data = np.sort(self.data)\n",
    "        \n",
    "        # Calculate the empirical cumulative probabilities, note y-values start at 0 so tail values (1-y) start at 1\n",
    "        n = len(sorted_data)\n",
    "        y = np.arange(0, n ) / n\n",
    "        \n",
    "        return sorted_data, y\n",
    "\n",
    "    def empirical_tail(self):\n",
    "        '''\n",
    "        Calculate the empirical tail function (1-ECDF) of the given data.\n",
    "        \n",
    "        Inputs: data (array-like): Input data array.\n",
    "    \n",
    "        Returns:\n",
    "        x (array): Sorted unique values of the input data.\n",
    "        y (array): Empirical tail probabilities corresponding to the sorted unique values.\n",
    "        '''\n",
    "        x, y = self.empirical_cdf() \n",
    "\n",
    "        return x, 1-y\n",
    "\n",
    "class tail_fns:\n",
    "      \n",
    "    def k_gen_exp(x,k):\n",
    "        '''\n",
    "        Inputs variable x and parameter k.\n",
    "        Outputs the k-generalised exponential function.\n",
    "        '''\n",
    "        return (np.sqrt(1+k**2*x**2)+k*x)**(1/k)\n",
    "    \n",
    "    def k_gen_dist_tail(x,k,a,b):\n",
    "        '''\n",
    "        Inputs variable x and parameters k, a, b.\n",
    "        Outputs the tail of the k-generalised distribution\n",
    "        '''\n",
    "        x1= -b*x**a\n",
    "        return tail_fns.k_gen_exp(x1,k)\n",
    "    \n",
    "    def exp_tail(x,l): # NOT USED.\n",
    "        '''\n",
    "        Inputs variable x and parameter l.\n",
    "        Outputs the tail of the exponential distribution\n",
    "        '''\n",
    "        return np.exp(-x/l)\n",
    "\n",
    "    def rmsd(y_act,y_pred): # NOT USED.\n",
    "        '''\n",
    "        Inputs actual empirical tail y-values and y-values tail prediction.\n",
    "        Outputs root mean square deviation https://en.wikipedia.org/wiki/Root-mean-square_deviation\n",
    "        '''\n",
    "        n=len(y_act)\n",
    "        return np.sum(np.sqrt(1/n*(y_act-y_pred)**2))\n",
    "\n",
    "    def ks_stat(y,y_pred):\n",
    "        '''\n",
    "        Inputs:\n",
    "        y - empirical tail of data\n",
    "        y_pred - predicted tail value for y\n",
    "        Output: Kolmogorov-Smirnoff statistic\n",
    "        '''\n",
    "        return np.max(np.abs(y-y_pred))\n",
    "\n",
    "    def tail_params_errors(stock_names):\n",
    "        '''\n",
    "        Inputs array of stock names.\n",
    "        Outputs array of parameter fits and \n",
    "        errors of normal, Levy-stable and k-generalised distribution fits to the stock tails tails\n",
    "        '''\n",
    "        params = []\n",
    "        errors_norm = []\n",
    "        errors_levy_stable = []\n",
    "        errors_k_gen = []\n",
    "        for i in range(len(stock_names)):\n",
    "            data = yf.download(stock_names[i], period=\"max\")\n",
    "            param, e_norm, e_levy_stable, e_k_gen = tail_param_error(data)\n",
    "            params.append(param)\n",
    "            errors_norm.append(e_norm)\n",
    "            errors_levy_stable.append(e_levy_stable)\n",
    "            errors_k_gen.append(e_k_gen)\n",
    "            print(i)\n",
    "        return params,errors_norm, errors_levy_stable, errors_k_gen\n",
    "\n",
    "    def get_characteristics_errors(errors):\n",
    "        ''' \n",
    "        Inputs array of the errors.\n",
    "        Outputs the min, max, mean and variance of the errors.\n",
    "        '''\n",
    "        errors = np.asarray(errors,float)\n",
    "        return errors.min(), errors.max(), errors.mean(), errors.var()\n",
    "\n",
    "    def where_greater(e1,e2):\n",
    "        '''\n",
    "        Input arrays of errors e1, e2 of same length.\n",
    "        Output number of times element i in e1 greater than element i in e2\n",
    "        '''\n",
    "        c=0\n",
    "        for i in range(len(e1)):\n",
    "            if e1[i]>e2[i]:\n",
    "                c+=1\n",
    "        return c\n",
    "\n",
    "\n",
    "class fit_tail_ls: # NOT USED.\n",
    "\n",
    "    def least_square_residuals(params,f,x,y):\n",
    "        '''\n",
    "        Inputs parameters (params), function (f) and variables x, y\n",
    "        Performs least squares to fit the parameters of the function f(x,params) to y\n",
    "        '''\n",
    "        return y-f(x,*params)\n",
    "    \n",
    "    def get_least_squares_fit(params0, bds,f,x,y):\n",
    "        '''\n",
    "        Inputs initial parameters for fitting (params0), bounds of parameters to fit (bds), function (f) and variables x, y\n",
    "        Performs least squares to fit parameters of the function. \n",
    "        NOTE does not work as well as maximising the MLE numerically due to error bias..\n",
    "        '''\n",
    "        sol=least_squares(fit_tail_ls.least_square_residuals, params0, args=((f, x, y)),bounds=bds)\n",
    "        return sol.x\n",
    "\n",
    "class k_gen_fitting:\n",
    "    \n",
    "    def k_gen_dens(x,k,a,b):\n",
    "        ''' \n",
    "        Inputs variable x and parameters k, a, b\n",
    "        Outputs density of k-generalised distribution.\n",
    "        '''\n",
    "        s1=a*b*x**(a-1)\n",
    "        s2=np.sqrt(1+b**2*k**2*x**(2*a))\n",
    "        s3=tail_fns.k_gen_dist_tail(x,k,a,b)\n",
    "        return s1/s2*s3\n",
    "    \n",
    "    def k_gen_log_like(params,x):\n",
    "        '''\n",
    "        Inputs parameters (params) and variable x.\n",
    "        Outputs negative of log-likelihood of k-generalised distribution.\n",
    "        '''\n",
    "        return -np.sum(np.log(k_gen_fitting.k_gen_dens(x,*params)))\n",
    "\n",
    "    def k_gen_like_fit(params,bds,x):\n",
    "        ''' \n",
    "        Inputs parameters (params), bounds on parameters (bds) and variable x\n",
    "        Outputs numerical minimum of negative likelihood of k-generalised distribution.\n",
    "        Note this is equivalent to maximising the log-likelihood.\n",
    "        '''\n",
    "        sol=minimize(k_gen_fitting.k_gen_log_like, params, args=(x),bounds=bds)\n",
    "        return sol.x\n",
    "\n",
    "    def log_k(x,k):\n",
    "        '''\n",
    "        Inputs variable x and parameter k.\n",
    "        Outputs k-logarithm\n",
    "        '''\n",
    "        return (x**k-x**(-k))/(2*k)\n",
    "    \n",
    "    def k_gen_tail_sample(y,p,k,a,b):\n",
    "        '''\n",
    "        Inputs variable y-values of tail, parameters p (proportion parameter), k, a, b (k-gen. parameters)\n",
    "        Outputs k-generalised sample.\n",
    "        '''\n",
    "        return (-1/b*k_gen_fitting.log_k(y/p,k))**(1/a)\n",
    "\n",
    "class plotting:\n",
    "    \n",
    "    def __init__(self,ax,myxlabel,myylabel,font_sizes,leg):\n",
    "        self.ax = ax\n",
    "        self.myxlabel = myxlabel\n",
    "        self.myylabel = myylabel\n",
    "        self.font_sizes = font_sizes\n",
    "        self.leg = leg\n",
    "\n",
    "    def add_labels(self):\n",
    "        '''\n",
    "        Adds labels, grid and optional legend to plot.\n",
    "        Inputs: \n",
    "        ax - plotting object\n",
    "        myxlabel - xlabel string\n",
    "        myylabel - ylabel string\n",
    "        font_sizes - array of size 5 of fontsizes for xlabel string, \n",
    "        ylabel string, xticks, yticks and legend\n",
    "        leg - if 1 put in the legend, otherwise do not\n",
    "        Output: ax - plotting object with the added inputs\n",
    "        '''\n",
    "        self.ax.set_xlabel(self.myxlabel,fontsize=self.font_sizes[0])\n",
    "        self.ax.set_ylabel(self.myylabel,fontsize=self.font_sizes[1])\n",
    "        self.ax.grid(color='grey', linestyle='--', linewidth=0.5)\n",
    "        self.ax.tick_params(axis='x', labelsize=self.font_sizes[2])\n",
    "        self.ax.tick_params(axis='y', labelsize=self.font_sizes[3])\n",
    "        if(self.leg==1):\n",
    "            self.ax.legend(fontsize=self.font_sizes[4])\n",
    "        return self.ax\n",
    "\n",
    "def get_stock_prices_dates(data):\n",
    "    '''\n",
    "    Inputs: data - dataframe of stock\n",
    "    Outputs: dates of stock, time interval of stocks in years, stock prices\n",
    "    '''\n",
    "    # Get dates which is the index column of the data frame\n",
    "    data['Date']=data.index\n",
    "    dates=data['Date']\n",
    "    \n",
    "    # Get number of years of historic stock data\n",
    "    start_date = dates.iloc[0]\n",
    "    end_date = dates.iloc[-1]\n",
    "    difference_in_years = relativedelta(end_date, start_date).years\n",
    "    \n",
    "    # Stock prices as float\n",
    "    stock_type = 'Close'\n",
    "    stock_prices = np.asarray(data[stock_type],float)\n",
    "\n",
    "    return dates, difference_in_years, stock_prices\n",
    "\n",
    "def plot_stock_info(data,stock):\n",
    "    '''\n",
    "    Inputs: data - dataframe of stock, stock - stock code.\n",
    "    Outputs: plot the stock price, log returns and fits of tails of log-returns with k-generalised distribution and normal.\n",
    "    '''\n",
    "\n",
    "    dates, difference_in_years, stock_prices =  get_stock_prices_dates(data)\n",
    "    stock_type = 'Close'\n",
    "    \n",
    "    returns = return_functions(stock_prices) # Enter stock-prices to returns class\n",
    "    log_returns = returns.log_returns() # Get log-returns\n",
    "    log_returns_neg = log_returns[log_returns<0] # Gets negative log-returns\n",
    "    log_returns_pos = log_returns[log_returns>0] # Gets positive log-returns\n",
    "    \n",
    "    q=len(log_returns_neg)/len(log_returns) # Proportion of log-returns that are negative\n",
    "    \n",
    "    x,y = empirical_fns(log_returns_neg).empirical_cdf() # Get empirical cdf of negative log-returns\n",
    "    x1,y1 = empirical_fns(log_returns_pos).empirical_tail() # Get empirical tail of positive log-returns\n",
    "    \n",
    "    params0=[0.5,1,1] # Parameter initialisation for MLE k-gen\n",
    "    bds = [(10**-1,1),(10**-3,np.inf),(10**-3,np.inf)] # Parameter bounds for MLE k-gen\n",
    "    \n",
    "    params_pred=k_gen_fitting.k_gen_like_fit(params0,bds,-log_returns_neg) # MLE k-gen parameter fit to tail of negative log_returns\n",
    "    params_pred1=k_gen_fitting.k_gen_like_fit(params0,bds,log_returns_pos) # MLE k-gen parameter fit to tail of  positive log_returns\n",
    "    k_gen_pred = q*tail_fns.k_gen_dist_tail(-x[1:],*params_pred) # MLE k-gen prediction for tail of negative log_returns\n",
    "    k_gen_pred1 = (1-q)*tail_fns.k_gen_dist_tail(x1,*params_pred1) # MLE k-gen prediction for tail of positive log_returns\n",
    "\n",
    "    params_pred_normal=norm.fit(log_returns) # MLE normal parameter fit to log-returns\n",
    "    norm_pred=norm.cdf(x[1:], *params_pred_normal) # Normal fit tail of negative log_returns\n",
    "    norm_pred1=norm.sf(x1, *params_pred_normal) # Normal fit tail of positive log_returns\n",
    "\n",
    "    levy_stable.parameterization = 'S0' # Levy-stable set parameter - default S1\n",
    "    params_pred_levy_stable = levy_stable._fitstart(log_returns) # Levy-stable MLE fit\n",
    "    levy_stable_pred=levy_stable.sf(-x[1:], *params_pred_levy_stable) # Levy-stable fit prediction tail of negative log_returns\n",
    "    levy_stable_pred1=levy_stable.sf(x1, *params_pred_levy_stable) # Levy-stable fit prediction tail of positive log_returns\n",
    "\n",
    "    # Plot historical daily (closed) stock price, log returns and k-generalised and normal fits to tails of log returns ##############\n",
    "    fig, ax = plt.subplots(2,2,figsize=(10,5)) \n",
    "\n",
    "    if difference_in_years <= 10:\n",
    "        ax[0,0].xaxis.set_major_locator(mdates.YearLocator(1)) # Sorts issue with repeating years over small range\n",
    "        ax[0,1].xaxis.set_major_locator(mdates.YearLocator(1)) # Sorts issue with repeating years over small range\n",
    "    \n",
    "    ax[0,0].plot(dates,stock_prices,label=stock+' '+stock_type)\n",
    "    # ax[0,0].set_yscale('log')\n",
    "    font_sizes = [10,10,10,10,12]\n",
    "    leg=1\n",
    "    labels=['Date','Stock price',font_sizes,leg]\n",
    "    plotting(ax[0,0],*labels).add_labels()\n",
    "    ax[0,0].xaxis.set_major_formatter(mdates.DateFormatter('%Y')) # Set dates to year only for x-axis\n",
    "    \n",
    "    ax[0,1].plot(dates[1:],log_returns,label=stock)\n",
    "    leg=0\n",
    "    labels=['Date',r'Returns ($R$)',font_sizes,leg]\n",
    "    plotting(ax[0,1],*labels).add_labels()\n",
    "    ax[0,1].xaxis.set_major_formatter(mdates.DateFormatter('%Y')) # Set dates to year only for x-axis \n",
    "    \n",
    "    ax[1,0].plot(x[1:],q*y[1:],'o')\n",
    "    ax[1,0].plot(x[1:], k_gen_pred, label=r'$\\kappa$-gen.',linestyle = '-')\n",
    "    ax[1,0].plot(x[1:],levy_stable_pred,label='HT stable',linestyle = '--')\n",
    "    ax[1,0].plot(x[1:],norm_pred,label='Normal',linestyle = '-.')\n",
    "    ax[1,0].set_yscale('log')\n",
    "    # font_sizes = [10,10,10,10,10]\n",
    "    leg=1\n",
    "    labels=[r'$r$',r'$\\mathbb{P}(R<r)$',font_sizes,leg]\n",
    "    plotting(ax[1,0],*labels).add_labels()\n",
    "    ax[1,0].set_ylim([0.5*(q*y[1:]).min(), 1.5*(q*y[1:]).max()])\n",
    "    \n",
    "    ax[1,1].plot(x1, (1-q)*y1,'o')\n",
    "    ax[1,1].plot(x1, k_gen_pred1, label=r'$\\kappa$-gen.',linestyle = '-')\n",
    "    ax[1,1].plot(x1,levy_stable_pred1,label='HT stable',linestyle = '--')\n",
    "    ax[1,1].plot(x1,norm_pred1,label='Normal',linestyle = '-.')\n",
    "    ax[1,1].set_yscale('log')\n",
    "    # font_sizes = [10,10,10,10,10]\n",
    "    leg=1\n",
    "    labels=[r'$r$',r'$\\mathbb{P}(R>r)$',font_sizes,leg]\n",
    "    plotting(ax[1,1],*labels).add_labels()\n",
    "    ax[1,1].set_ylim([0.5*((1-q)*y1).min(), 1.5*((1-q)*y1).max()])\n",
    "    \n",
    "    plt.tight_layout()\n",
    "    ##########################################################################\n",
    "\n",
    "def tail_param_error(data):\n",
    "    '''\n",
    "    Inputs dataframe for yahoo stock.\n",
    "    Outputs parameter fits and Kolmogorov-Smirnoff (KS) error statistics of normal, Levy-stable\n",
    "    and k-generalised MLE fits to negative and positve tails of log-returns\n",
    "    '''\n",
    "    \n",
    "    # Stock prices as float\n",
    "    stock_type = 'Close'\n",
    "    stock_prices = np.asarray(data[stock_type],float)\n",
    "    \n",
    "    returns = return_functions(stock_prices) # Enter stock-prices to returns class\n",
    "    log_returns = returns.log_returns() # Get log-returns\n",
    "    log_returns_neg = log_returns[log_returns<0] # Gets negative log-returns\n",
    "    log_returns_pos = log_returns[log_returns>0] # Gets positive log-returns\n",
    "    \n",
    "    q=len(log_returns_neg)/len(log_returns) # Proportion of log-returns that are negative\n",
    "    \n",
    "    x,y = empirical_fns(log_returns_neg).empirical_cdf() # Get empirical cdf of negative log-returns\n",
    "    x1,y1 = empirical_fns(log_returns_pos).empirical_tail() # Get empirical tail of positive log-returns\n",
    "    \n",
    "    # MLE fit with normal\n",
    "    params_pred_normal = norm.fit(log_returns)\n",
    "    norm_pred=norm.sf(-x[1:], *params_pred_normal) # Normal fit prediction tail of negative log_returns\n",
    "    norm_pred1=norm.sf(x1, *params_pred_normal) # Normal fit prediction tail of positive log_returns\n",
    "\n",
    "    # MLE fit with Levy stable\n",
    "    levy_stable.parameterization = 'S0' # Levy-stable set parameter - default S1 \n",
    "    params_pred_levy_stable = levy_stable._fitstart(log_returns) # Levy-stable MLE fit\n",
    "    levy_stable_pred=levy_stable.sf(-x[1:], *params_pred_levy_stable) # Levy-stable fit prediction tail of negative log_returns\n",
    "    levy_stable_pred1=levy_stable.sf(x1, *params_pred_levy_stable) # Levy-stable fit prediction tail of positive log_returns\n",
    "\n",
    "    # MLE fit with k-gen\n",
    "    params0=[0.5,1,1] # Parameter initialisation for MLE\n",
    "    bds = [(10**-1,1),(10**-3,np.inf),(10**-3,np.inf)] # Parameter bounds for MLE\n",
    "    \n",
    "    params_pred_k_gen=k_gen_fitting.k_gen_like_fit(params0,bds,-log_returns_neg) # MLE k-gen parameter fit to tail of negative log_returns\n",
    "    params_pred_k_gen1=k_gen_fitting.k_gen_like_fit(params0,bds,log_returns_pos) # MLE k-gen parameter fit to tail of  positive log_returns\n",
    "    k_gen_pred = q*tail_fns.k_gen_dist_tail(-x[1:],*params_pred_k_gen) # MLE k-gen prediction for tail of negative log_returns\n",
    "    k_gen_pred1 = (1-q)*tail_fns.k_gen_dist_tail(x1,*params_pred_k_gen1) # MLE k-gen prediction for tail of positive log_returns\n",
    "\n",
    "    param = [params_pred_normal,params_pred_levy_stable,params_pred_k_gen,params_pred_k_gen1]\n",
    "    \n",
    "    y_act = np.concatenate((q*y[1:],(1-q)*y1)) # Concatenate empirical tails for negative and positive log-returns\n",
    "    norm_y_pred = np.concatenate((norm_pred,norm_pred1)) # Concatenate normal tail fits for negative and positive log-returns\n",
    "    levy_stable_y_pred = np.concatenate((levy_stable_pred,levy_stable_pred1)) # Concatenate Levy stable tail fits for negative and positive log-returns\n",
    "    k_gen_y_pred = np.concatenate((k_gen_pred, k_gen_pred1)) # Concatenate k-gen. tail fits for negative and positive log-returns\n",
    "\n",
    "    return param, tail_fns.ks_stat(y_act,norm_y_pred), tail_fns.ks_stat(y_act,levy_stable_y_pred),tail_fns.ks_stat(y_act,k_gen_y_pred)\n",
    "\n",
    "def p_values_k_gen_fits(N,data):\n",
    "    '''\n",
    "    Get simulated p-values for k-generalised  fits to negative and positive log-returns tails \n",
    "    Inputs:\n",
    "    N - number of times to simulate to get p-values\n",
    "    data - stock data\n",
    "    Outputs:\n",
    "    p_value_neg - p-value for negative tail\n",
    "    p_value_pos - p-value for positive tail\n",
    "    '''\n",
    "    \n",
    "    # Stock prices as float\n",
    "    stock_type = 'Close'\n",
    "    stock_prices = np.asarray(data[stock_type],float)\n",
    "    \n",
    "    returns = return_functions(stock_prices) # Enter stock-prices to returns class\n",
    "    log_returns = returns.log_returns() # Get log-returns\n",
    "    log_returns_neg = log_returns[log_returns<0] # Gets negative log-returns\n",
    "    log_returns_pos = log_returns[log_returns>0] # Gets negative log-returns\n",
    "    \n",
    "    q=len(log_returns_neg)/len(log_returns) # Proportion of log-returns that are negative\n",
    "    \n",
    "    x,y = empirical_fns(log_returns_neg).empirical_cdf() # Get empirical cdf of negative log-returns\n",
    "    x1,y1 = empirical_fns(log_returns_pos).empirical_tail() # Get empirical tail of positive log-returns\n",
    "    \n",
    "    params0=[0.5,1,1] # Parameter initialisation for MLE\n",
    "    bds = [(10**-1,1),(10**-3,np.inf),(10**-3,np.inf)] # Parameter bounds for MLE\n",
    "    \n",
    "    params_pred=k_gen_fitting.k_gen_like_fit(params0,bds,-log_returns_neg) # MLE k-gen parameter fit to tail of negative log-returns\n",
    "    params_pred1=k_gen_fitting.k_gen_like_fit(params0,bds,log_returns_pos) # MLE k-gen parameter fit to tail of  positive log-returns\n",
    "    k_gen_pred = q*tail_fns.k_gen_dist_tail(-x[1:],*params_pred) # MLE k-gen prediction for tail of negative log-returns\n",
    "    k_gen_pred1 = (1-q)*tail_fns.k_gen_dist_tail(x1,*params_pred1) # MLE k-gen prediction for tail of positive log-returns\n",
    "    \n",
    "    e_neg = tail_fns.ks_stat(q*y[1:],k_gen_pred) # Kolmogorov-Smirnoff statistic for tail fit to negative log-returns\n",
    "    e_pos = tail_fns.ks_stat((1-q)*y1,k_gen_pred1) # Kolmogorov-Smirnoff statistic for tail fit to positive log-returns\n",
    "\n",
    "    n=len(x[1:]) # Sample size for negative log-returns\n",
    "    n1=len(x) # Sample size for positive log-returns\n",
    "    es, e1s = [], [] # Initialise array to hold KS statistics\n",
    "\n",
    "    # Simulate N samples of k-generalised distribution with above fitted parameters and then fit to get KS-statistics\n",
    "    for i in range(N):\n",
    "        y_samp = uniform.rvs(loc=0, scale=q, size=n, random_state=i) # Generate uniform y-tail values for negative log-returns with seed\n",
    "        y_samp1 = uniform.rvs(loc=0, scale=(1-q), size=n1, random_state=i) # Generate uniform y-tail values for positive log-returns with seed\n",
    "        \n",
    "        s = -k_gen_fitting.k_gen_tail_sample(y_samp,q,*params_pred) # Generate k-generalised sample for negative log-returns\n",
    "        s1 = k_gen_fitting.k_gen_tail_sample(y_samp1,(1-q),*params_pred1) # Generate k-generalised sample for positive log-returns\n",
    "        \n",
    "        x,y = empirical_fns(s).empirical_cdf() # Get empirical cdf of negative log-returns\n",
    "        x1,y1 = empirical_fns(s1).empirical_tail()  # Get empirical tail of positive log-returns\n",
    "        \n",
    "        params0=[0.5,1,1] # Parameter initialisation for MLE\n",
    "        bds = [(10**-1,1),(10**-3,np.inf),(10**-3,np.inf)] # Parameter bounds for MLE\n",
    "        \n",
    "        params_pred2=k_gen_fitting.k_gen_like_fit(params0,bds,-s) # MLE k-gen parameter fit to tail of negative log_returns\n",
    "        params_pred3=k_gen_fitting.k_gen_like_fit(params0,bds,s1) # MLE k-gen parameter fit to tail of  positive log_returns\n",
    "        k_gen_pred = q*tail_fns.k_gen_dist_tail(-x,*params_pred2) # MLE k-gen prediction for tail of negative log_returns\n",
    "        k_gen_pred1 = (1-q)*tail_fns.k_gen_dist_tail(x1,*params_pred3) # MLE k-gen prediction for tail of positive log_returns\n",
    "        \n",
    "        e = tail_fns.ks_stat(q*y,k_gen_pred) # KS statistic negative log-returns\n",
    "        e1 = tail_fns.ks_stat((1-q)*y1,k_gen_pred1) # KS statistic positive log-returns\n",
    "        # Append to arrays\n",
    "        es.append(e)\n",
    "        e1s.append(e1)\n",
    "    # Get p-values\n",
    "    # p-value defined as proportion of simulated KS-statistic greater than KS-statistic for data\n",
    "    # High p-value more likely data from k-gen distribution\n",
    "    p_value_neg = len(np.where(es > e_neg)[0])/len(es)\n",
    "    p_value_pos = len(np.where(e1s > e_pos)[0])/len(e1s)\n",
    "    return p_value_neg, p_value_pos\n",
    "\n",
    "def generate_stock_values(data):\n",
    "    '''\n",
    "    Inputs dataframe for yahoo stock.\n",
    "    Outputs generated stock values using k-gen. fits from first value of stock.\n",
    "    '''\n",
    "    # Stock prices as float\n",
    "    stock_type = 'Close'\n",
    "    stock_prices = np.asarray(data[stock_type],float)\n",
    "    \n",
    "    returns = return_functions(stock_prices) # Enter stock-prices to returns class\n",
    "    log_returns = returns.log_returns() # Get log-returns\n",
    "    log_returns_neg = log_returns[log_returns<0] # Gets negative log-returns\n",
    "    log_returns_pos = log_returns[log_returns>0] # Gets positive log-returns\n",
    "    \n",
    "    q=len(log_returns_neg)/len(log_returns) # Proportion of log-returns that are negative\n",
    "    \n",
    "    x,y = empirical_fns(log_returns_neg).empirical_cdf() # Get empirical cdf of negative log-returns\n",
    "    x1,y1 = empirical_fns(log_returns_pos).empirical_tail() # Get empirical tail of positive log-returns\n",
    "    \n",
    "    params0=[0.5,1,1] # Parameter initialisation for MLE k-gen\n",
    "    bds = [(10**-1,1),(10**-3,np.inf),(10**-3,np.inf)] # Parameter bounds for MLE k-gen\n",
    "    \n",
    "    params_pred=k_gen_fitting.k_gen_like_fit(params0,bds,-log_returns_neg) # MLE k-gen parameter fit to tail of negative log_returns\n",
    "    params_pred1=k_gen_fitting.k_gen_like_fit(params0,bds,log_returns_pos) # MLE k-gen parameter fit to tail of  positive log_returns\n",
    "    k_gen_pred = q*tail_fns.k_gen_dist_tail(-x[1:],*params_pred) # MLE k-gen prediction for tail of negative log_returns\n",
    "    k_gen_pred1 = (1-q)*tail_fns.k_gen_dist_tail(x1,*params_pred1) # MLE k-gen prediction for tail of positive log_returns\n",
    "\n",
    "    ## Generate stock prices using k-gen distribution\n",
    "    n = len(stock_prices)-1 # Set length of stock price to be generated (first value taken as actual stock value)\n",
    "    p = uniform.rvs(size = n) \n",
    "    \n",
    "    s = stock_prices[0]\n",
    "    stock_gen = [s] # Array to hold generated stock values\n",
    "    \n",
    "    for i in range(n):\n",
    "        if p[i]<q: # Generate a stock value with negative returns using k-gen\n",
    "            y_samp = uniform.rvs(loc=0, scale=q)\n",
    "            s = s*np.exp(-k_gen_fitting.k_gen_tail_sample(y_samp,q,*params_pred)) # Generate k-generalised sample for negative log-returns\n",
    "        else:# Generate a stock value with negative returns using k-gen\n",
    "            y_samp1 = uniform.rvs(loc=0, scale=1-q)\n",
    "            s = s*np.exp(k_gen_fitting.k_gen_tail_sample(y_samp1,(1-q),*params_pred1)) # Generate k-generalised sample for positive log-returns\n",
    "        stock_gen.append(s)\n",
    "        \n",
    "    return stock_gen\n",
    "    "
   ]
  },
  {
   "cell_type": "markdown",
   "id": "3c2c1534-a08c-447c-87b5-bc5000812a6d",
   "metadata": {},
   "source": [
    "# Data\n",
    "\n",
    "See https://pypi.org/project/yfinance/ for details on yfinance Python package that downloads historical stock data from Yahoo.\n",
    "\n",
    "See https://aroussi.com/post/python-yahoo-finance for further details of use."
   ]
  },
  {
   "cell_type": "code",
   "execution_count": 3,
   "id": "8a4b4bd1-12ab-4dfd-94ba-5277de5ef547",
   "metadata": {},
   "outputs": [
    {
     "name": "stderr",
     "output_type": "stream",
     "text": [
      "[*********************100%%**********************]  1 of 1 completed\n"
     ]
    }
   ],
   "source": [
    "# Download the Yahoo stock data using yfinance\n",
    "\n",
    "stock = '^NYA'\n",
    "# stock = '^IXIC'\n",
    "# stock = '^FTSE'\n",
    "# stock = 'AAPL'\n",
    "# stock = 'BTC-GBP'\n",
    "# stock = 'ABNB'\n",
    "\n",
    "data = yf.download(stock, period=\"max\") # Dataframe for stock. Note sometimes a stock fails to download!"
   ]
  },
  {
   "cell_type": "code",
   "execution_count": 4,
   "id": "0303f04f-89ec-4e0f-bded-d0708e098211",
   "metadata": {},
   "outputs": [
    {
     "name": "stdout",
     "output_type": "stream",
     "text": [
      "USD\n"
     ]
    }
   ],
   "source": [
    "currency = yf.Ticker(stock).info['currency']\n",
    "print(currency)"
   ]
  },
  {
   "cell_type": "code",
   "execution_count": 5,
   "id": "88f6d5d7-7f9c-43ac-837e-dc0c5eb1137f",
   "metadata": {},
   "outputs": [
    {
     "name": "stdout",
     "output_type": "stream",
     "text": [
      "                  Open        High         Low       Close   Adj Close  Volume\n",
      "Date                                                                          \n",
      "1965-12-31  528.690002  528.690002  528.690002  528.690002  528.690002       0\n",
      "1966-01-03  527.210022  527.210022  527.210022  527.210022  527.210022       0\n",
      "1966-01-04  527.840027  527.840027  527.840027  527.840027  527.840027       0\n",
      "1966-01-05  531.119995  531.119995  531.119995  531.119995  531.119995       0\n",
      "1966-01-06  532.070007  532.070007  532.070007  532.070007  532.070007       0\n"
     ]
    }
   ],
   "source": [
    "# Preview first 5 rows\n",
    "print(data.head())"
   ]
  },
  {
   "cell_type": "code",
   "execution_count": 6,
   "id": "6b15bc2f-2805-47f4-b16a-cfd65892426b",
   "metadata": {},
   "outputs": [
    {
     "name": "stdout",
     "output_type": "stream",
     "text": [
      "CPU times: user 9.82 s, sys: 1.6 s, total: 11.4 s\n",
      "Wall time: 9.64 s\n"
     ]
    },
    {
     "data": {
      "image/png": "[encoded data removed]",
      "text/plain": [
       "<Figure size 1000x500 with 4 Axes>"
      ]
     },
     "metadata": {},
     "output_type": "display_data"
    }
   ],
   "source": [
    "%%time\n",
    "# Plot for single stock\n",
    "plot_stock_info(data,stock)\n",
    "# plt.savefig(f'./plots/{stock}.png', bbox_inches='tight')"
   ]
  },
  {
   "cell_type": "markdown",
   "id": "6dbe22dc-8862-4156-a271-65af0eea4d0c",
   "metadata": {},
   "source": [
    "https://www.scrapingbee.com/blog/selenium-python/\n",
    "\n",
    "https://stackoverflow.com/questions/37879010/selenium-debugging-element-is-not-clickable-at-point-x-y"
   ]
  },
  {
   "cell_type": "code",
   "execution_count": 7,
   "id": "b903421a-2c04-44c9-b742-95753b26a6df",
   "metadata": {},
   "outputs": [
    {
     "name": "stdout",
     "output_type": "stream",
     "text": [
      "page number: 1\n",
      "page number: 2\n",
      "page number: 3\n",
      "page number: 4\n",
      "page number: 5\n",
      "100\n",
      "\n",
      " ['AAF.L', 'AAL.L', 'ABF.L', 'ADM.L', 'AHT.L', 'ANTO.L', 'AUTO.L', 'AV.L', 'AZN.L', 'BA.L', 'BARC.L', 'BATS.L', 'BDEV.L', 'BEZ.L', 'BKG.L', 'BME.L', 'BNZL.L', 'BP.L', 'BRBY.L', 'BT-A.L', 'CCH.L', 'CNA.L', 'CPG.L', 'CRDA.L', 'CTEC.L', 'DCC.L', 'DGE.L', 'DPLM.L', 'ENT.L', 'EXPN.L', 'EZJ.L', 'FCIT.L', 'FLTR.L', 'FRAS.L', 'FRES.L', 'GLEN.L', 'GSK.L', 'HIK.L', 'HLMA.L', 'HLN.L', 'HSBA.L', 'HWDN.L', 'IAG.L', 'ICG.L', 'IHG.L', 'III.L', 'IMB.L', 'IMI.L', 'INF.L', 'ITRK.L', 'JD.L', 'KGF.L', 'LAND.L', 'LGEN.L', 'LLOY.L', 'LSEG.L', 'MKS.L', 'MNDI.L', 'MNG.L', 'MRO.L', 'NG.L', 'NWG.L', 'NXT.L', 'OCDO.L', 'PHNX.L', 'PRU.L', 'PSH.L', 'PSN.L', 'PSON.L', 'REL.L', 'RIO.L', 'RKT.L', 'RMV.L', 'RR.L', 'RS1.L', 'RTO.L', 'SBRY.L', 'SDR.L', 'SGE.L', 'SGRO.L', 'SHEL.L', 'SKG.L', 'SMDS.L', 'SMIN.L', 'SMT.L', 'SN.L', 'SPX.L', 'SSE.L', 'STAN.L', 'STJ.L', 'SVT.L', 'TSCO.L', 'TW.L', 'ULVR.L', 'UTG.L', 'UU.L', 'VOD.L', 'WEIR.L', 'WPP.L', 'WTB.L']\n",
      "CPU times: user 108 ms, sys: 49.9 ms, total: 158 ms\n",
      "Wall time: 26.5 s\n"
     ]
    }
   ],
   "source": [
    "%%time\n",
    "'''\n",
    "Get the stock codes for the FTSE 100 from the London stock exchange and use Python's selenium to extract them. \n",
    "See: https://www.scrapingbee.com/blog/selenium-python/ for background on selenium.\n",
    "See: https://stackoverflow.com/questions/37879010/selenium-debugging-element-is-not-clickable-at-point-x-y\n",
    "to help with clicking through pages error.\n",
    "'''\n",
    "\n",
    "URL=\"https://www.londonstockexchange.com/indices/ftse-100/constituents/table\" # URL for London stock exchange to get stock codes\n",
    "driver = webdriver.Chrome()\n",
    "driver.get(URL)\n",
    "time.sleep(2) # Needed so page can load\n",
    "\n",
    "# Initialise array to store FTSE 100 stock codes\n",
    "FTSE100_stocks = []\n",
    "# Keep going through stock pages till get all 100 unique stocks - for some reason may have to go through the pages more than once\n",
    "while len(FTSE100_stocks)<100:\n",
    "    for page in driver.find_elements(By.XPATH,'//*[@id=\"ftse-index-table\"]/app-paginator/div/a'): # Xpath to clicker\n",
    "        driver.execute_script(\"arguments[0].click();\", page)  # Click to another page, use instead of page.click() (didn't work)\n",
    "        time.sleep(2) # Needed so page can load\n",
    "        print(f\"page number: {page.text}\") \n",
    "        for i in range(1,21):\n",
    "            for element in driver.find_elements(By.XPATH, f'//*[@id=\"ftse-index-table\"]/table/tbody/tr[{i}]'): # Xpath to table\n",
    "                s = element.text\n",
    "                s1 = s.split()\n",
    "                if s1[0] not in FTSE100_stocks:\n",
    "                    FTSE100_stocks.append(s1[0])\n",
    "    print(len(FTSE100_stocks))\n",
    "    \n",
    "driver.quit() # Quit the webpage\n",
    "###################################################################\n",
    "FTSE100_stocks.sort() # Sorts the codes alphabetically\n",
    "\n",
    "# Now get stock codes so they match the yahoo versions (they end with .L and minor adjustment to stock BT.A)\n",
    "FTSE100_stocks1=[]\n",
    "for i in range(len(FTSE100_stocks)):\n",
    "    s=FTSE100_stocks[i]\n",
    "    if s=='BT.A':\n",
    "        s='BT-A.L'\n",
    "    elif s[-1] == '.':\n",
    "        s=s+'L'\n",
    "    else:\n",
    "        s=s+'.L'\n",
    "    FTSE100_stocks1.append(s)\n",
    "\n",
    "print('\\n',FTSE100_stocks1)"
   ]
  },
  {
   "cell_type": "code",
   "execution_count": 8,
   "id": "2914c15f-a704-4b52-9e04-c2bf4eb9cd01",
   "metadata": {},
   "outputs": [
    {
     "name": "stdout",
     "output_type": "stream",
     "text": [
      "['AAPL', 'ABNB', 'ADBE', 'ADI', 'ADP', 'ADSK', 'AEP', 'AMAT', 'AMD', 'AMGN', 'AMZN', 'ANSS', 'ASML', 'AVGO', 'AZN', 'BIIB', 'BKNG', 'BKR', 'CCEP', 'CDNS', 'CDW', 'CEG', 'CHTR', 'CMCSA', 'COST', 'CPRT', 'CRWD', 'CSCO', 'CSGP', 'CSX', 'CTAS', 'CTSH', 'DASH', 'DDOG', 'DLTR', 'DXCM', 'EA', 'EXC', 'FANG', 'FAST', 'FTNT', 'GEHC', 'GFS', 'GILD', 'GOOG', 'GOOGL', 'HON', 'IDXX', 'ILMN', 'INTC', 'INTU', 'ISRG', 'KDP', 'KHC', 'KLAC', 'LIN', 'LRCX', 'LULU', 'MAR', 'MCHP', 'MDB', 'MDLZ', 'MELI', 'META', 'MNST', 'MRNA', 'MRVL', 'MSFT', 'MU', 'NFLX', 'NVDA', 'NXPI', 'ODFL', 'ON', 'ORLY', 'PANW', 'PAYX', 'PCAR', 'PDD', 'PEP', 'PYPL', 'QCOM', 'REGN', 'ROP', 'ROST', 'SBUX', 'SIRI', 'SNPS', 'TEAM', 'TMUS', 'TSLA', 'TTD', 'TTWO', 'TXN', 'VRSK', 'VRTX', 'WBA', 'WBD', 'WDAY', 'XEL']\n",
      "100\n",
      "CPU times: user 43.2 ms, sys: 11.6 ms, total: 54.8 ms\n",
      "Wall time: 4.91 s\n"
     ]
    }
   ],
   "source": [
    "%%time\n",
    "'''\n",
    "Get the stock codes for the top 100 Nasdaq stocks using selenium.\n",
    "'''\n",
    "\n",
    "URL=\"https://www.nasdaq.com/market-activity/quotes/nasdaq-ndx-index\" # URL for Nasdaq website for top 100 Nasdaq stock codes\n",
    "driver = webdriver.Chrome()\n",
    "driver.get(URL)\n",
    "time.sleep(2) # Needed so page can load\n",
    "\n",
    "# Initialise array to store Nasdaq top 100 stock codes\n",
    "Nasdaq100_stocks = []\n",
    "x_path = '/html/body/div[2]/div/main/div[2]/article/div[2]/div/div[3]/div[3]/div[2]/table/tbody/tr' # Xpath to table\n",
    "c=0\n",
    "for element in driver.find_elements(By.XPATH, x_path): # Xpath to table\n",
    "    if c < 100: # Get first 100 (101 on webpage)\n",
    "        s = element.text\n",
    "        s1 = s.split()\n",
    "        Nasdaq100_stocks.append(s1[0])\n",
    "        c+=1\n",
    "\n",
    "print(Nasdaq100_stocks)\n",
    "print(len(Nasdaq100_stocks))\n",
    "driver.quit() # Quit the webpage"
   ]
  },
  {
   "cell_type": "code",
   "execution_count": 9,
   "id": "ac1d745c-2b41-4c34-985b-c488a323093b",
   "metadata": {
    "scrolled": true
   },
   "outputs": [
    {
     "name": "stderr",
     "output_type": "stream",
     "text": [
      "[*********************100%%**********************]  1 of 1 completed\n"
     ]
    },
    {
     "name": "stdout",
     "output_type": "stream",
     "text": [
      "0\n"
     ]
    },
    {
     "name": "stderr",
     "output_type": "stream",
     "text": [
      "[*********************100%%**********************]  1 of 1 completed\n"
     ]
    },
    {
     "name": "stdout",
     "output_type": "stream",
     "text": [
      "1\n"
     ]
    },
    {
     "name": "stderr",
     "output_type": "stream",
     "text": [
      "[*********************100%%**********************]  1 of 1 completed\n"
     ]
    },
    {
     "name": "stdout",
     "output_type": "stream",
     "text": [
      "2\n"
     ]
    },
    {
     "name": "stderr",
     "output_type": "stream",
     "text": [
      "[*********************100%%**********************]  1 of 1 completed\n"
     ]
    },
    {
     "name": "stdout",
     "output_type": "stream",
     "text": [
      "3\n"
     ]
    },
    {
     "name": "stderr",
     "output_type": "stream",
     "text": [
      "[*********************100%%**********************]  1 of 1 completed\n"
     ]
    },
    {
     "name": "stdout",
     "output_type": "stream",
     "text": [
      "4\n"
     ]
    },
    {
     "name": "stderr",
     "output_type": "stream",
     "text": [
      "[*********************100%%**********************]  1 of 1 completed\n",
      "[*********************100%%**********************]  1 of 1 completed"
     ]
    },
    {
     "name": "stdout",
     "output_type": "stream",
     "text": [
      "5\n"
     ]
    },
    {
     "name": "stderr",
     "output_type": "stream",
     "text": [
      "\n"
     ]
    },
    {
     "name": "stdout",
     "output_type": "stream",
     "text": [
      "6\n"
     ]
    },
    {
     "name": "stderr",
     "output_type": "stream",
     "text": [
      "[*********************100%%**********************]  1 of 1 completed\n"
     ]
    },
    {
     "name": "stdout",
     "output_type": "stream",
     "text": [
      "7\n"
     ]
    },
    {
     "name": "stderr",
     "output_type": "stream",
     "text": [
      "[*********************100%%**********************]  1 of 1 completed\n"
     ]
    },
    {
     "name": "stdout",
     "output_type": "stream",
     "text": [
      "8\n"
     ]
    },
    {
     "name": "stderr",
     "output_type": "stream",
     "text": [
      "[*********************100%%**********************]  1 of 1 completed\n"
     ]
    },
    {
     "name": "stdout",
     "output_type": "stream",
     "text": [
      "9\n"
     ]
    },
    {
     "name": "stderr",
     "output_type": "stream",
     "text": [
      "[*********************100%%**********************]  1 of 1 completed\n"
     ]
    },
    {
     "name": "stdout",
     "output_type": "stream",
     "text": [
      "10\n"
     ]
    },
    {
     "name": "stderr",
     "output_type": "stream",
     "text": [
      "[*********************100%%**********************]  1 of 1 completed\n"
     ]
    },
    {
     "name": "stdout",
     "output_type": "stream",
     "text": [
      "11\n"
     ]
    },
    {
     "name": "stderr",
     "output_type": "stream",
     "text": [
      "[*********************100%%**********************]  1 of 1 completed\n"
     ]
    },
    {
     "name": "stdout",
     "output_type": "stream",
     "text": [
      "12\n"
     ]
    },
    {
     "name": "stderr",
     "output_type": "stream",
     "text": [
      "[*********************100%%**********************]  1 of 1 completed\n"
     ]
    },
    {
     "name": "stdout",
     "output_type": "stream",
     "text": [
      "13\n"
     ]
    },
    {
     "name": "stderr",
     "output_type": "stream",
     "text": [
      "[*********************100%%**********************]  1 of 1 completed\n",
      "[*********************100%%**********************]  1 of 1 completed"
     ]
    },
    {
     "name": "stdout",
     "output_type": "stream",
     "text": [
      "14\n"
     ]
    },
    {
     "name": "stderr",
     "output_type": "stream",
     "text": [
      "\n"
     ]
    },
    {
     "name": "stdout",
     "output_type": "stream",
     "text": [
      "15\n"
     ]
    },
    {
     "name": "stderr",
     "output_type": "stream",
     "text": [
      "[*********************100%%**********************]  1 of 1 completed\n"
     ]
    },
    {
     "name": "stdout",
     "output_type": "stream",
     "text": [
      "16\n"
     ]
    },
    {
     "name": "stderr",
     "output_type": "stream",
     "text": [
      "[*********************100%%**********************]  1 of 1 completed\n"
     ]
    },
    {
     "name": "stdout",
     "output_type": "stream",
     "text": [
      "17\n"
     ]
    },
    {
     "name": "stderr",
     "output_type": "stream",
     "text": [
      "[*********************100%%**********************]  1 of 1 completed\n"
     ]
    },
    {
     "name": "stdout",
     "output_type": "stream",
     "text": [
      "18\n"
     ]
    },
    {
     "name": "stderr",
     "output_type": "stream",
     "text": [
      "[*********************100%%**********************]  1 of 1 completed\n",
      "[*********************100%%**********************]  1 of 1 completed"
     ]
    },
    {
     "name": "stdout",
     "output_type": "stream",
     "text": [
      "19\n"
     ]
    },
    {
     "name": "stderr",
     "output_type": "stream",
     "text": [
      "\n"
     ]
    },
    {
     "name": "stdout",
     "output_type": "stream",
     "text": [
      "20\n"
     ]
    },
    {
     "name": "stderr",
     "output_type": "stream",
     "text": [
      "[*********************100%%**********************]  1 of 1 completed\n"
     ]
    },
    {
     "name": "stdout",
     "output_type": "stream",
     "text": [
      "21\n"
     ]
    },
    {
     "name": "stderr",
     "output_type": "stream",
     "text": [
      "[*********************100%%**********************]  1 of 1 completed\n"
     ]
    },
    {
     "name": "stdout",
     "output_type": "stream",
     "text": [
      "22\n"
     ]
    },
    {
     "name": "stderr",
     "output_type": "stream",
     "text": [
      "[*********************100%%**********************]  1 of 1 completed\n",
      "[*********************100%%**********************]  1 of 1 completed"
     ]
    },
    {
     "name": "stdout",
     "output_type": "stream",
     "text": [
      "23\n"
     ]
    },
    {
     "name": "stderr",
     "output_type": "stream",
     "text": [
      "\n"
     ]
    },
    {
     "name": "stdout",
     "output_type": "stream",
     "text": [
      "24\n"
     ]
    },
    {
     "name": "stderr",
     "output_type": "stream",
     "text": [
      "[*********************100%%**********************]  1 of 1 completed\n"
     ]
    },
    {
     "name": "stdout",
     "output_type": "stream",
     "text": [
      "25\n"
     ]
    },
    {
     "name": "stderr",
     "output_type": "stream",
     "text": [
      "[*********************100%%**********************]  1 of 1 completed\n"
     ]
    },
    {
     "name": "stdout",
     "output_type": "stream",
     "text": [
      "26\n"
     ]
    },
    {
     "name": "stderr",
     "output_type": "stream",
     "text": [
      "[*********************100%%**********************]  1 of 1 completed\n"
     ]
    },
    {
     "name": "stdout",
     "output_type": "stream",
     "text": [
      "27\n"
     ]
    },
    {
     "name": "stderr",
     "output_type": "stream",
     "text": [
      "[*********************100%%**********************]  1 of 1 completed\n",
      "[*********************100%%**********************]  1 of 1 completed"
     ]
    },
    {
     "name": "stdout",
     "output_type": "stream",
     "text": [
      "28\n"
     ]
    },
    {
     "name": "stderr",
     "output_type": "stream",
     "text": [
      "\n"
     ]
    },
    {
     "name": "stdout",
     "output_type": "stream",
     "text": [
      "29\n"
     ]
    },
    {
     "name": "stderr",
     "output_type": "stream",
     "text": [
      "[*********************100%%**********************]  1 of 1 completed\n"
     ]
    },
    {
     "name": "stdout",
     "output_type": "stream",
     "text": [
      "30\n"
     ]
    },
    {
     "name": "stderr",
     "output_type": "stream",
     "text": [
      "[*********************100%%**********************]  1 of 1 completed\n",
      "/var/folders/pv/jsktch8x0vdg6f2rb7pcpzd40000gn/T/ipykernel_27783/2980152425.py:205: RuntimeWarning: divide by zero encountered in log\n",
      "  return -np.sum(np.log(k_gen_fitting.k_gen_dens(x,*params)))\n",
      "/Library/Frameworks/Python.framework/Versions/3.12/lib/python3.12/site-packages/scipy/optimize/_numdiff.py:590: RuntimeWarning: invalid value encountered in subtract\n",
      "  df = fun(x) - f0\n"
     ]
    },
    {
     "name": "stdout",
     "output_type": "stream",
     "text": [
      "31\n"
     ]
    },
    {
     "name": "stderr",
     "output_type": "stream",
     "text": [
      "[*********************100%%**********************]  1 of 1 completed\n",
      "[*********************100%%**********************]  1 of 1 completed"
     ]
    },
    {
     "name": "stdout",
     "output_type": "stream",
     "text": [
      "32\n"
     ]
    },
    {
     "name": "stderr",
     "output_type": "stream",
     "text": [
      "\n",
      "[*********************100%%**********************]  1 of 1 completed"
     ]
    },
    {
     "name": "stdout",
     "output_type": "stream",
     "text": [
      "33\n"
     ]
    },
    {
     "name": "stderr",
     "output_type": "stream",
     "text": [
      "\n",
      "[*********************100%%**********************]  1 of 1 completed"
     ]
    },
    {
     "name": "stdout",
     "output_type": "stream",
     "text": [
      "34\n"
     ]
    },
    {
     "name": "stderr",
     "output_type": "stream",
     "text": [
      "\n"
     ]
    },
    {
     "name": "stdout",
     "output_type": "stream",
     "text": [
      "35\n"
     ]
    },
    {
     "name": "stderr",
     "output_type": "stream",
     "text": [
      "[*********************100%%**********************]  1 of 1 completed\n"
     ]
    },
    {
     "name": "stdout",
     "output_type": "stream",
     "text": [
      "36\n"
     ]
    },
    {
     "name": "stderr",
     "output_type": "stream",
     "text": [
      "[*********************100%%**********************]  1 of 1 completed\n"
     ]
    },
    {
     "name": "stdout",
     "output_type": "stream",
     "text": [
      "37\n"
     ]
    },
    {
     "name": "stderr",
     "output_type": "stream",
     "text": [
      "[*********************100%%**********************]  1 of 1 completed\n",
      "[*********************100%%**********************]  1 of 1 completed"
     ]
    },
    {
     "name": "stdout",
     "output_type": "stream",
     "text": [
      "38\n"
     ]
    },
    {
     "name": "stderr",
     "output_type": "stream",
     "text": [
      "\n"
     ]
    },
    {
     "name": "stdout",
     "output_type": "stream",
     "text": [
      "39\n"
     ]
    },
    {
     "name": "stderr",
     "output_type": "stream",
     "text": [
      "[*********************100%%**********************]  1 of 1 completed\n"
     ]
    },
    {
     "name": "stdout",
     "output_type": "stream",
     "text": [
      "40\n"
     ]
    },
    {
     "name": "stderr",
     "output_type": "stream",
     "text": [
      "[*********************100%%**********************]  1 of 1 completed\n"
     ]
    },
    {
     "name": "stdout",
     "output_type": "stream",
     "text": [
      "41\n"
     ]
    },
    {
     "name": "stderr",
     "output_type": "stream",
     "text": [
      "[*********************100%%**********************]  1 of 1 completed\n"
     ]
    },
    {
     "name": "stdout",
     "output_type": "stream",
     "text": [
      "42\n"
     ]
    },
    {
     "name": "stderr",
     "output_type": "stream",
     "text": [
      "[*********************100%%**********************]  1 of 1 completed\n"
     ]
    },
    {
     "name": "stdout",
     "output_type": "stream",
     "text": [
      "43\n"
     ]
    },
    {
     "name": "stderr",
     "output_type": "stream",
     "text": [
      "[*********************100%%**********************]  1 of 1 completed\n"
     ]
    },
    {
     "name": "stdout",
     "output_type": "stream",
     "text": [
      "44\n"
     ]
    },
    {
     "name": "stderr",
     "output_type": "stream",
     "text": [
      "[*********************100%%**********************]  1 of 1 completed\n"
     ]
    },
    {
     "name": "stdout",
     "output_type": "stream",
     "text": [
      "45\n"
     ]
    },
    {
     "name": "stderr",
     "output_type": "stream",
     "text": [
      "[*********************100%%**********************]  1 of 1 completed\n"
     ]
    },
    {
     "name": "stdout",
     "output_type": "stream",
     "text": [
      "46\n"
     ]
    },
    {
     "name": "stderr",
     "output_type": "stream",
     "text": [
      "[*********************100%%**********************]  1 of 1 completed\n"
     ]
    },
    {
     "name": "stdout",
     "output_type": "stream",
     "text": [
      "47\n"
     ]
    },
    {
     "name": "stderr",
     "output_type": "stream",
     "text": [
      "[*********************100%%**********************]  1 of 1 completed\n"
     ]
    },
    {
     "name": "stdout",
     "output_type": "stream",
     "text": [
      "48\n"
     ]
    },
    {
     "name": "stderr",
     "output_type": "stream",
     "text": [
      "[*********************100%%**********************]  1 of 1 completed\n"
     ]
    },
    {
     "name": "stdout",
     "output_type": "stream",
     "text": [
      "49\n"
     ]
    },
    {
     "name": "stderr",
     "output_type": "stream",
     "text": [
      "[*********************100%%**********************]  1 of 1 completed\n"
     ]
    },
    {
     "name": "stdout",
     "output_type": "stream",
     "text": [
      "50\n"
     ]
    },
    {
     "name": "stderr",
     "output_type": "stream",
     "text": [
      "[*********************100%%**********************]  1 of 1 completed\n"
     ]
    },
    {
     "name": "stdout",
     "output_type": "stream",
     "text": [
      "51\n"
     ]
    },
    {
     "name": "stderr",
     "output_type": "stream",
     "text": [
      "[*********************100%%**********************]  1 of 1 completed\n"
     ]
    },
    {
     "name": "stdout",
     "output_type": "stream",
     "text": [
      "52\n"
     ]
    },
    {
     "name": "stderr",
     "output_type": "stream",
     "text": [
      "[*********************100%%**********************]  1 of 1 completed\n"
     ]
    },
    {
     "name": "stdout",
     "output_type": "stream",
     "text": [
      "53\n"
     ]
    },
    {
     "name": "stderr",
     "output_type": "stream",
     "text": [
      "[*********************100%%**********************]  1 of 1 completed\n"
     ]
    },
    {
     "name": "stdout",
     "output_type": "stream",
     "text": [
      "54\n"
     ]
    },
    {
     "name": "stderr",
     "output_type": "stream",
     "text": [
      "[*********************100%%**********************]  1 of 1 completed\n"
     ]
    },
    {
     "name": "stdout",
     "output_type": "stream",
     "text": [
      "55\n"
     ]
    },
    {
     "name": "stderr",
     "output_type": "stream",
     "text": [
      "[*********************100%%**********************]  1 of 1 completed\n"
     ]
    },
    {
     "name": "stdout",
     "output_type": "stream",
     "text": [
      "56\n"
     ]
    },
    {
     "name": "stderr",
     "output_type": "stream",
     "text": [
      "[*********************100%%**********************]  1 of 1 completed\n",
      "[*********************100%%**********************]  1 of 1 completed"
     ]
    },
    {
     "name": "stdout",
     "output_type": "stream",
     "text": [
      "57\n"
     ]
    },
    {
     "name": "stderr",
     "output_type": "stream",
     "text": [
      "\n"
     ]
    },
    {
     "name": "stdout",
     "output_type": "stream",
     "text": [
      "58\n"
     ]
    },
    {
     "name": "stderr",
     "output_type": "stream",
     "text": [
      "[*********************100%%**********************]  1 of 1 completed\n"
     ]
    },
    {
     "name": "stdout",
     "output_type": "stream",
     "text": [
      "59\n"
     ]
    },
    {
     "name": "stderr",
     "output_type": "stream",
     "text": [
      "[*********************100%%**********************]  1 of 1 completed\n"
     ]
    },
    {
     "name": "stdout",
     "output_type": "stream",
     "text": [
      "60\n"
     ]
    },
    {
     "name": "stderr",
     "output_type": "stream",
     "text": [
      "[*********************100%%**********************]  1 of 1 completed\n"
     ]
    },
    {
     "name": "stdout",
     "output_type": "stream",
     "text": [
      "61\n"
     ]
    },
    {
     "name": "stderr",
     "output_type": "stream",
     "text": [
      "[*********************100%%**********************]  1 of 1 completed\n",
      "[*********************100%%**********************]  1 of 1 completed"
     ]
    },
    {
     "name": "stdout",
     "output_type": "stream",
     "text": [
      "62\n"
     ]
    },
    {
     "name": "stderr",
     "output_type": "stream",
     "text": [
      "\n"
     ]
    },
    {
     "name": "stdout",
     "output_type": "stream",
     "text": [
      "63\n"
     ]
    },
    {
     "name": "stderr",
     "output_type": "stream",
     "text": [
      "[*********************100%%**********************]  1 of 1 completed\n"
     ]
    },
    {
     "name": "stdout",
     "output_type": "stream",
     "text": [
      "64\n"
     ]
    },
    {
     "name": "stderr",
     "output_type": "stream",
     "text": [
      "[*********************100%%**********************]  1 of 1 completed\n",
      "[*********************100%%**********************]  1 of 1 completed"
     ]
    },
    {
     "name": "stdout",
     "output_type": "stream",
     "text": [
      "65\n"
     ]
    },
    {
     "name": "stderr",
     "output_type": "stream",
     "text": [
      "\n"
     ]
    },
    {
     "name": "stdout",
     "output_type": "stream",
     "text": [
      "66\n"
     ]
    },
    {
     "name": "stderr",
     "output_type": "stream",
     "text": [
      "[*********************100%%**********************]  1 of 1 completed\n"
     ]
    },
    {
     "name": "stdout",
     "output_type": "stream",
     "text": [
      "67\n"
     ]
    },
    {
     "name": "stderr",
     "output_type": "stream",
     "text": [
      "[*********************100%%**********************]  1 of 1 completed\n"
     ]
    },
    {
     "name": "stdout",
     "output_type": "stream",
     "text": [
      "68\n"
     ]
    },
    {
     "name": "stderr",
     "output_type": "stream",
     "text": [
      "[*********************100%%**********************]  1 of 1 completed\n"
     ]
    },
    {
     "name": "stdout",
     "output_type": "stream",
     "text": [
      "69\n"
     ]
    },
    {
     "name": "stderr",
     "output_type": "stream",
     "text": [
      "[*********************100%%**********************]  1 of 1 completed\n"
     ]
    },
    {
     "name": "stdout",
     "output_type": "stream",
     "text": [
      "70\n"
     ]
    },
    {
     "name": "stderr",
     "output_type": "stream",
     "text": [
      "[*********************100%%**********************]  1 of 1 completed\n"
     ]
    },
    {
     "name": "stdout",
     "output_type": "stream",
     "text": [
      "71\n"
     ]
    },
    {
     "name": "stderr",
     "output_type": "stream",
     "text": [
      "[*********************100%%**********************]  1 of 1 completed\n"
     ]
    },
    {
     "name": "stdout",
     "output_type": "stream",
     "text": [
      "72\n"
     ]
    },
    {
     "name": "stderr",
     "output_type": "stream",
     "text": [
      "[*********************100%%**********************]  1 of 1 completed\n"
     ]
    },
    {
     "name": "stdout",
     "output_type": "stream",
     "text": [
      "73\n"
     ]
    },
    {
     "name": "stderr",
     "output_type": "stream",
     "text": [
      "[*********************100%%**********************]  1 of 1 completed\n"
     ]
    },
    {
     "name": "stdout",
     "output_type": "stream",
     "text": [
      "74\n"
     ]
    },
    {
     "name": "stderr",
     "output_type": "stream",
     "text": [
      "[*********************100%%**********************]  1 of 1 completed\n"
     ]
    },
    {
     "name": "stdout",
     "output_type": "stream",
     "text": [
      "75\n"
     ]
    },
    {
     "name": "stderr",
     "output_type": "stream",
     "text": [
      "[*********************100%%**********************]  1 of 1 completed\n"
     ]
    },
    {
     "name": "stdout",
     "output_type": "stream",
     "text": [
      "76\n"
     ]
    },
    {
     "name": "stderr",
     "output_type": "stream",
     "text": [
      "[*********************100%%**********************]  1 of 1 completed\n"
     ]
    },
    {
     "name": "stdout",
     "output_type": "stream",
     "text": [
      "77\n"
     ]
    },
    {
     "name": "stderr",
     "output_type": "stream",
     "text": [
      "[*********************100%%**********************]  1 of 1 completed\n"
     ]
    },
    {
     "name": "stdout",
     "output_type": "stream",
     "text": [
      "78\n"
     ]
    },
    {
     "name": "stderr",
     "output_type": "stream",
     "text": [
      "[*********************100%%**********************]  1 of 1 completed\n"
     ]
    },
    {
     "name": "stdout",
     "output_type": "stream",
     "text": [
      "79\n"
     ]
    },
    {
     "name": "stderr",
     "output_type": "stream",
     "text": [
      "[*********************100%%**********************]  1 of 1 completed\n"
     ]
    },
    {
     "name": "stdout",
     "output_type": "stream",
     "text": [
      "80\n"
     ]
    },
    {
     "name": "stderr",
     "output_type": "stream",
     "text": [
      "[*********************100%%**********************]  1 of 1 completed\n"
     ]
    },
    {
     "name": "stdout",
     "output_type": "stream",
     "text": [
      "81\n"
     ]
    },
    {
     "name": "stderr",
     "output_type": "stream",
     "text": [
      "[*********************100%%**********************]  1 of 1 completed\n"
     ]
    },
    {
     "name": "stdout",
     "output_type": "stream",
     "text": [
      "82\n"
     ]
    },
    {
     "name": "stderr",
     "output_type": "stream",
     "text": [
      "[*********************100%%**********************]  1 of 1 completed\n"
     ]
    },
    {
     "name": "stdout",
     "output_type": "stream",
     "text": [
      "83\n"
     ]
    },
    {
     "name": "stderr",
     "output_type": "stream",
     "text": [
      "[*********************100%%**********************]  1 of 1 completed\n"
     ]
    },
    {
     "name": "stdout",
     "output_type": "stream",
     "text": [
      "84\n"
     ]
    },
    {
     "name": "stderr",
     "output_type": "stream",
     "text": [
      "[*********************100%%**********************]  1 of 1 completed\n"
     ]
    },
    {
     "name": "stdout",
     "output_type": "stream",
     "text": [
      "85\n"
     ]
    },
    {
     "name": "stderr",
     "output_type": "stream",
     "text": [
      "[*********************100%%**********************]  1 of 1 completed\n"
     ]
    },
    {
     "name": "stdout",
     "output_type": "stream",
     "text": [
      "86\n"
     ]
    },
    {
     "name": "stderr",
     "output_type": "stream",
     "text": [
      "[*********************100%%**********************]  1 of 1 completed\n"
     ]
    },
    {
     "name": "stdout",
     "output_type": "stream",
     "text": [
      "87\n"
     ]
    },
    {
     "name": "stderr",
     "output_type": "stream",
     "text": [
      "[*********************100%%**********************]  1 of 1 completed\n"
     ]
    },
    {
     "name": "stdout",
     "output_type": "stream",
     "text": [
      "88\n"
     ]
    },
    {
     "name": "stderr",
     "output_type": "stream",
     "text": [
      "[*********************100%%**********************]  1 of 1 completed\n"
     ]
    },
    {
     "name": "stdout",
     "output_type": "stream",
     "text": [
      "89\n"
     ]
    },
    {
     "name": "stderr",
     "output_type": "stream",
     "text": [
      "[*********************100%%**********************]  1 of 1 completed\n"
     ]
    },
    {
     "name": "stdout",
     "output_type": "stream",
     "text": [
      "90\n"
     ]
    },
    {
     "name": "stderr",
     "output_type": "stream",
     "text": [
      "[*********************100%%**********************]  1 of 1 completed\n"
     ]
    },
    {
     "name": "stdout",
     "output_type": "stream",
     "text": [
      "91\n"
     ]
    },
    {
     "name": "stderr",
     "output_type": "stream",
     "text": [
      "[*********************100%%**********************]  1 of 1 completed\n"
     ]
    },
    {
     "name": "stdout",
     "output_type": "stream",
     "text": [
      "92\n"
     ]
    },
    {
     "name": "stderr",
     "output_type": "stream",
     "text": [
      "[*********************100%%**********************]  1 of 1 completed\n"
     ]
    },
    {
     "name": "stdout",
     "output_type": "stream",
     "text": [
      "93\n"
     ]
    },
    {
     "name": "stderr",
     "output_type": "stream",
     "text": [
      "[*********************100%%**********************]  1 of 1 completed\n"
     ]
    },
    {
     "name": "stdout",
     "output_type": "stream",
     "text": [
      "94\n"
     ]
    },
    {
     "name": "stderr",
     "output_type": "stream",
     "text": [
      "[*********************100%%**********************]  1 of 1 completed\n"
     ]
    },
    {
     "name": "stdout",
     "output_type": "stream",
     "text": [
      "95\n"
     ]
    },
    {
     "name": "stderr",
     "output_type": "stream",
     "text": [
      "[*********************100%%**********************]  1 of 1 completed\n"
     ]
    },
    {
     "name": "stdout",
     "output_type": "stream",
     "text": [
      "96\n"
     ]
    },
    {
     "name": "stderr",
     "output_type": "stream",
     "text": [
      "[*********************100%%**********************]  1 of 1 completed\n"
     ]
    },
    {
     "name": "stdout",
     "output_type": "stream",
     "text": [
      "97\n"
     ]
    },
    {
     "name": "stderr",
     "output_type": "stream",
     "text": [
      "[*********************100%%**********************]  1 of 1 completed\n"
     ]
    },
    {
     "name": "stdout",
     "output_type": "stream",
     "text": [
      "98\n"
     ]
    },
    {
     "name": "stderr",
     "output_type": "stream",
     "text": [
      "[*********************100%%**********************]  1 of 1 completed\n"
     ]
    },
    {
     "name": "stdout",
     "output_type": "stream",
     "text": [
      "99\n",
      "Fin.\n"
     ]
    },
    {
     "name": "stderr",
     "output_type": "stream",
     "text": [
      "[*********************100%%**********************]  1 of 1 completed\n",
      "[*********************100%%**********************]  1 of 1 completed"
     ]
    },
    {
     "name": "stdout",
     "output_type": "stream",
     "text": [
      "0\n"
     ]
    },
    {
     "name": "stderr",
     "output_type": "stream",
     "text": [
      "\n"
     ]
    },
    {
     "name": "stdout",
     "output_type": "stream",
     "text": [
      "1\n"
     ]
    },
    {
     "name": "stderr",
     "output_type": "stream",
     "text": [
      "[*********************100%%**********************]  1 of 1 completed\n"
     ]
    },
    {
     "name": "stdout",
     "output_type": "stream",
     "text": [
      "2\n"
     ]
    },
    {
     "name": "stderr",
     "output_type": "stream",
     "text": [
      "[*********************100%%**********************]  1 of 1 completed\n"
     ]
    },
    {
     "name": "stdout",
     "output_type": "stream",
     "text": [
      "3\n"
     ]
    },
    {
     "name": "stderr",
     "output_type": "stream",
     "text": [
      "[*********************100%%**********************]  1 of 1 completed\n"
     ]
    },
    {
     "name": "stdout",
     "output_type": "stream",
     "text": [
      "4\n"
     ]
    },
    {
     "name": "stderr",
     "output_type": "stream",
     "text": [
      "[*********************100%%**********************]  1 of 1 completed\n"
     ]
    },
    {
     "name": "stdout",
     "output_type": "stream",
     "text": [
      "5\n"
     ]
    },
    {
     "name": "stderr",
     "output_type": "stream",
     "text": [
      "[*********************100%%**********************]  1 of 1 completed\n"
     ]
    },
    {
     "name": "stdout",
     "output_type": "stream",
     "text": [
      "6\n"
     ]
    },
    {
     "name": "stderr",
     "output_type": "stream",
     "text": [
      "[*********************100%%**********************]  1 of 1 completed\n"
     ]
    },
    {
     "name": "stdout",
     "output_type": "stream",
     "text": [
      "7\n"
     ]
    },
    {
     "name": "stderr",
     "output_type": "stream",
     "text": [
      "[*********************100%%**********************]  1 of 1 completed\n"
     ]
    },
    {
     "name": "stdout",
     "output_type": "stream",
     "text": [
      "8\n"
     ]
    },
    {
     "name": "stderr",
     "output_type": "stream",
     "text": [
      "[*********************100%%**********************]  1 of 1 completed\n"
     ]
    },
    {
     "name": "stdout",
     "output_type": "stream",
     "text": [
      "9\n"
     ]
    },
    {
     "name": "stderr",
     "output_type": "stream",
     "text": [
      "[*********************100%%**********************]  1 of 1 completed\n"
     ]
    },
    {
     "name": "stdout",
     "output_type": "stream",
     "text": [
      "10\n"
     ]
    },
    {
     "name": "stderr",
     "output_type": "stream",
     "text": [
      "[*********************100%%**********************]  1 of 1 completed\n"
     ]
    },
    {
     "name": "stdout",
     "output_type": "stream",
     "text": [
      "11\n"
     ]
    },
    {
     "name": "stderr",
     "output_type": "stream",
     "text": [
      "[*********************100%%**********************]  1 of 1 completed\n",
      "[*********************100%%**********************]  1 of 1 completed"
     ]
    },
    {
     "name": "stdout",
     "output_type": "stream",
     "text": [
      "12\n"
     ]
    },
    {
     "name": "stderr",
     "output_type": "stream",
     "text": [
      "\n"
     ]
    },
    {
     "name": "stdout",
     "output_type": "stream",
     "text": [
      "13\n"
     ]
    },
    {
     "name": "stderr",
     "output_type": "stream",
     "text": [
      "[*********************100%%**********************]  1 of 1 completed\n"
     ]
    },
    {
     "name": "stdout",
     "output_type": "stream",
     "text": [
      "14\n"
     ]
    },
    {
     "name": "stderr",
     "output_type": "stream",
     "text": [
      "[*********************100%%**********************]  1 of 1 completed\n"
     ]
    },
    {
     "name": "stdout",
     "output_type": "stream",
     "text": [
      "15\n"
     ]
    },
    {
     "name": "stderr",
     "output_type": "stream",
     "text": [
      "[*********************100%%**********************]  1 of 1 completed\n"
     ]
    },
    {
     "name": "stdout",
     "output_type": "stream",
     "text": [
      "16\n"
     ]
    },
    {
     "name": "stderr",
     "output_type": "stream",
     "text": [
      "[*********************100%%**********************]  1 of 1 completed\n"
     ]
    },
    {
     "name": "stdout",
     "output_type": "stream",
     "text": [
      "17\n"
     ]
    },
    {
     "name": "stderr",
     "output_type": "stream",
     "text": [
      "[*********************100%%**********************]  1 of 1 completed\n"
     ]
    },
    {
     "name": "stdout",
     "output_type": "stream",
     "text": [
      "18\n"
     ]
    },
    {
     "name": "stderr",
     "output_type": "stream",
     "text": [
      "[*********************100%%**********************]  1 of 1 completed\n"
     ]
    },
    {
     "name": "stdout",
     "output_type": "stream",
     "text": [
      "19\n"
     ]
    },
    {
     "name": "stderr",
     "output_type": "stream",
     "text": [
      "[*********************100%%**********************]  1 of 1 completed\n",
      "[*********************100%%**********************]  1 of 1 completed"
     ]
    },
    {
     "name": "stdout",
     "output_type": "stream",
     "text": [
      "20\n"
     ]
    },
    {
     "name": "stderr",
     "output_type": "stream",
     "text": [
      "\n",
      "[*********************100%%**********************]  1 of 1 completed"
     ]
    },
    {
     "name": "stdout",
     "output_type": "stream",
     "text": [
      "21\n"
     ]
    },
    {
     "name": "stderr",
     "output_type": "stream",
     "text": [
      "\n"
     ]
    },
    {
     "name": "stdout",
     "output_type": "stream",
     "text": [
      "22\n"
     ]
    },
    {
     "name": "stderr",
     "output_type": "stream",
     "text": [
      "[*********************100%%**********************]  1 of 1 completed\n"
     ]
    },
    {
     "name": "stdout",
     "output_type": "stream",
     "text": [
      "23\n"
     ]
    },
    {
     "name": "stderr",
     "output_type": "stream",
     "text": [
      "[*********************100%%**********************]  1 of 1 completed\n"
     ]
    },
    {
     "name": "stdout",
     "output_type": "stream",
     "text": [
      "24\n"
     ]
    },
    {
     "name": "stderr",
     "output_type": "stream",
     "text": [
      "[*********************100%%**********************]  1 of 1 completed\n",
      "[*********************100%%**********************]  1 of 1 completed"
     ]
    },
    {
     "name": "stdout",
     "output_type": "stream",
     "text": [
      "25\n"
     ]
    },
    {
     "name": "stderr",
     "output_type": "stream",
     "text": [
      "\n"
     ]
    },
    {
     "name": "stdout",
     "output_type": "stream",
     "text": [
      "26\n"
     ]
    },
    {
     "name": "stderr",
     "output_type": "stream",
     "text": [
      "[*********************100%%**********************]  1 of 1 completed\n"
     ]
    },
    {
     "name": "stdout",
     "output_type": "stream",
     "text": [
      "27\n"
     ]
    },
    {
     "name": "stderr",
     "output_type": "stream",
     "text": [
      "[*********************100%%**********************]  1 of 1 completed\n"
     ]
    },
    {
     "name": "stdout",
     "output_type": "stream",
     "text": [
      "28\n"
     ]
    },
    {
     "name": "stderr",
     "output_type": "stream",
     "text": [
      "[*********************100%%**********************]  1 of 1 completed\n"
     ]
    },
    {
     "name": "stdout",
     "output_type": "stream",
     "text": [
      "29\n"
     ]
    },
    {
     "name": "stderr",
     "output_type": "stream",
     "text": [
      "[*********************100%%**********************]  1 of 1 completed\n"
     ]
    },
    {
     "name": "stdout",
     "output_type": "stream",
     "text": [
      "30\n"
     ]
    },
    {
     "name": "stderr",
     "output_type": "stream",
     "text": [
      "[*********************100%%**********************]  1 of 1 completed\n",
      "[*********************100%%**********************]  1 of 1 completed"
     ]
    },
    {
     "name": "stdout",
     "output_type": "stream",
     "text": [
      "31\n"
     ]
    },
    {
     "name": "stderr",
     "output_type": "stream",
     "text": [
      "\n",
      "[*********************100%%**********************]  1 of 1 completed"
     ]
    },
    {
     "name": "stdout",
     "output_type": "stream",
     "text": [
      "32\n"
     ]
    },
    {
     "name": "stderr",
     "output_type": "stream",
     "text": [
      "\n"
     ]
    },
    {
     "name": "stdout",
     "output_type": "stream",
     "text": [
      "33\n"
     ]
    },
    {
     "name": "stderr",
     "output_type": "stream",
     "text": [
      "[*********************100%%**********************]  1 of 1 completed\n",
      "[*********************100%%**********************]  1 of 1 completed"
     ]
    },
    {
     "name": "stdout",
     "output_type": "stream",
     "text": [
      "34\n"
     ]
    },
    {
     "name": "stderr",
     "output_type": "stream",
     "text": [
      "\n"
     ]
    },
    {
     "name": "stdout",
     "output_type": "stream",
     "text": [
      "35\n"
     ]
    },
    {
     "name": "stderr",
     "output_type": "stream",
     "text": [
      "[*********************100%%**********************]  1 of 1 completed\n"
     ]
    },
    {
     "name": "stdout",
     "output_type": "stream",
     "text": [
      "36\n"
     ]
    },
    {
     "name": "stderr",
     "output_type": "stream",
     "text": [
      "[*********************100%%**********************]  1 of 1 completed\n",
      "[*********************100%%**********************]  1 of 1 completed"
     ]
    },
    {
     "name": "stdout",
     "output_type": "stream",
     "text": [
      "37\n"
     ]
    },
    {
     "name": "stderr",
     "output_type": "stream",
     "text": [
      "\n"
     ]
    },
    {
     "name": "stdout",
     "output_type": "stream",
     "text": [
      "38\n"
     ]
    },
    {
     "name": "stderr",
     "output_type": "stream",
     "text": [
      "[*********************100%%**********************]  1 of 1 completed\n",
      "[*********************100%%**********************]  1 of 1 completed"
     ]
    },
    {
     "name": "stdout",
     "output_type": "stream",
     "text": [
      "39\n"
     ]
    },
    {
     "name": "stderr",
     "output_type": "stream",
     "text": [
      "\n",
      "[*********************100%%**********************]  1 of 1 completed"
     ]
    },
    {
     "name": "stdout",
     "output_type": "stream",
     "text": [
      "40\n"
     ]
    },
    {
     "name": "stderr",
     "output_type": "stream",
     "text": [
      "\n",
      "[*********************100%%**********************]  1 of 1 completed"
     ]
    },
    {
     "name": "stdout",
     "output_type": "stream",
     "text": [
      "41\n"
     ]
    },
    {
     "name": "stderr",
     "output_type": "stream",
     "text": [
      "\n"
     ]
    },
    {
     "name": "stdout",
     "output_type": "stream",
     "text": [
      "42\n"
     ]
    },
    {
     "name": "stderr",
     "output_type": "stream",
     "text": [
      "[*********************100%%**********************]  1 of 1 completed\n",
      "[*********************100%%**********************]  1 of 1 completed"
     ]
    },
    {
     "name": "stdout",
     "output_type": "stream",
     "text": [
      "43\n"
     ]
    },
    {
     "name": "stderr",
     "output_type": "stream",
     "text": [
      "\n",
      "[*********************100%%**********************]  1 of 1 completed"
     ]
    },
    {
     "name": "stdout",
     "output_type": "stream",
     "text": [
      "44\n"
     ]
    },
    {
     "name": "stderr",
     "output_type": "stream",
     "text": [
      "\n"
     ]
    },
    {
     "name": "stdout",
     "output_type": "stream",
     "text": [
      "45\n"
     ]
    },
    {
     "name": "stderr",
     "output_type": "stream",
     "text": [
      "[*********************100%%**********************]  1 of 1 completed\n"
     ]
    },
    {
     "name": "stdout",
     "output_type": "stream",
     "text": [
      "46\n"
     ]
    },
    {
     "name": "stderr",
     "output_type": "stream",
     "text": [
      "[*********************100%%**********************]  1 of 1 completed\n"
     ]
    },
    {
     "name": "stdout",
     "output_type": "stream",
     "text": [
      "47\n"
     ]
    },
    {
     "name": "stderr",
     "output_type": "stream",
     "text": [
      "[*********************100%%**********************]  1 of 1 completed\n"
     ]
    },
    {
     "name": "stdout",
     "output_type": "stream",
     "text": [
      "48\n"
     ]
    },
    {
     "name": "stderr",
     "output_type": "stream",
     "text": [
      "[*********************100%%**********************]  1 of 1 completed\n"
     ]
    },
    {
     "name": "stdout",
     "output_type": "stream",
     "text": [
      "49\n"
     ]
    },
    {
     "name": "stderr",
     "output_type": "stream",
     "text": [
      "[*********************100%%**********************]  1 of 1 completed\n"
     ]
    },
    {
     "name": "stdout",
     "output_type": "stream",
     "text": [
      "50\n"
     ]
    },
    {
     "name": "stderr",
     "output_type": "stream",
     "text": [
      "[*********************100%%**********************]  1 of 1 completed\n"
     ]
    },
    {
     "name": "stdout",
     "output_type": "stream",
     "text": [
      "51\n"
     ]
    },
    {
     "name": "stderr",
     "output_type": "stream",
     "text": [
      "[*********************100%%**********************]  1 of 1 completed\n",
      "[*********************100%%**********************]  1 of 1 completed"
     ]
    },
    {
     "name": "stdout",
     "output_type": "stream",
     "text": [
      "52\n"
     ]
    },
    {
     "name": "stderr",
     "output_type": "stream",
     "text": [
      "\n"
     ]
    },
    {
     "name": "stdout",
     "output_type": "stream",
     "text": [
      "53\n"
     ]
    },
    {
     "name": "stderr",
     "output_type": "stream",
     "text": [
      "[*********************100%%**********************]  1 of 1 completed\n"
     ]
    },
    {
     "name": "stdout",
     "output_type": "stream",
     "text": [
      "54\n"
     ]
    },
    {
     "name": "stderr",
     "output_type": "stream",
     "text": [
      "[*********************100%%**********************]  1 of 1 completed\n"
     ]
    },
    {
     "name": "stdout",
     "output_type": "stream",
     "text": [
      "55\n"
     ]
    },
    {
     "name": "stderr",
     "output_type": "stream",
     "text": [
      "[*********************100%%**********************]  1 of 1 completed\n",
      "[*********************100%%**********************]  1 of 1 completed"
     ]
    },
    {
     "name": "stdout",
     "output_type": "stream",
     "text": [
      "56\n"
     ]
    },
    {
     "name": "stderr",
     "output_type": "stream",
     "text": [
      "\n"
     ]
    },
    {
     "name": "stdout",
     "output_type": "stream",
     "text": [
      "57\n"
     ]
    },
    {
     "name": "stderr",
     "output_type": "stream",
     "text": [
      "[*********************100%%**********************]  1 of 1 completed\n"
     ]
    },
    {
     "name": "stdout",
     "output_type": "stream",
     "text": [
      "58\n"
     ]
    },
    {
     "name": "stderr",
     "output_type": "stream",
     "text": [
      "[*********************100%%**********************]  1 of 1 completed\n",
      "[*********************100%%**********************]  1 of 1 completed"
     ]
    },
    {
     "name": "stdout",
     "output_type": "stream",
     "text": [
      "59\n"
     ]
    },
    {
     "name": "stderr",
     "output_type": "stream",
     "text": [
      "\n"
     ]
    },
    {
     "name": "stdout",
     "output_type": "stream",
     "text": [
      "60\n"
     ]
    },
    {
     "name": "stderr",
     "output_type": "stream",
     "text": [
      "[*********************100%%**********************]  1 of 1 completed\n",
      "[*********************100%%**********************]  1 of 1 completed"
     ]
    },
    {
     "name": "stdout",
     "output_type": "stream",
     "text": [
      "61\n"
     ]
    },
    {
     "name": "stderr",
     "output_type": "stream",
     "text": [
      "\n",
      "[*********************100%%**********************]  1 of 1 completed"
     ]
    },
    {
     "name": "stdout",
     "output_type": "stream",
     "text": [
      "62\n"
     ]
    },
    {
     "name": "stderr",
     "output_type": "stream",
     "text": [
      "\n"
     ]
    },
    {
     "name": "stdout",
     "output_type": "stream",
     "text": [
      "63\n"
     ]
    },
    {
     "name": "stderr",
     "output_type": "stream",
     "text": [
      "[*********************100%%**********************]  1 of 1 completed\n",
      "[*********************100%%**********************]  1 of 1 completed"
     ]
    },
    {
     "name": "stdout",
     "output_type": "stream",
     "text": [
      "64\n"
     ]
    },
    {
     "name": "stderr",
     "output_type": "stream",
     "text": [
      "\n"
     ]
    },
    {
     "name": "stdout",
     "output_type": "stream",
     "text": [
      "65\n"
     ]
    },
    {
     "name": "stderr",
     "output_type": "stream",
     "text": [
      "[*********************100%%**********************]  1 of 1 completed\n"
     ]
    },
    {
     "name": "stdout",
     "output_type": "stream",
     "text": [
      "66\n"
     ]
    },
    {
     "name": "stderr",
     "output_type": "stream",
     "text": [
      "[*********************100%%**********************]  1 of 1 completed\n"
     ]
    },
    {
     "name": "stdout",
     "output_type": "stream",
     "text": [
      "67\n"
     ]
    },
    {
     "name": "stderr",
     "output_type": "stream",
     "text": [
      "[*********************100%%**********************]  1 of 1 completed\n"
     ]
    },
    {
     "name": "stdout",
     "output_type": "stream",
     "text": [
      "68\n"
     ]
    },
    {
     "name": "stderr",
     "output_type": "stream",
     "text": [
      "[*********************100%%**********************]  1 of 1 completed\n"
     ]
    },
    {
     "name": "stdout",
     "output_type": "stream",
     "text": [
      "69\n"
     ]
    },
    {
     "name": "stderr",
     "output_type": "stream",
     "text": [
      "[*********************100%%**********************]  1 of 1 completed\n",
      "[*********************100%%**********************]  1 of 1 completed"
     ]
    },
    {
     "name": "stdout",
     "output_type": "stream",
     "text": [
      "70\n"
     ]
    },
    {
     "name": "stderr",
     "output_type": "stream",
     "text": [
      "\n"
     ]
    },
    {
     "name": "stdout",
     "output_type": "stream",
     "text": [
      "71\n"
     ]
    },
    {
     "name": "stderr",
     "output_type": "stream",
     "text": [
      "[*********************100%%**********************]  1 of 1 completed\n",
      "[*********************100%%**********************]  1 of 1 completed"
     ]
    },
    {
     "name": "stdout",
     "output_type": "stream",
     "text": [
      "72\n"
     ]
    },
    {
     "name": "stderr",
     "output_type": "stream",
     "text": [
      "\n"
     ]
    },
    {
     "name": "stdout",
     "output_type": "stream",
     "text": [
      "73\n"
     ]
    },
    {
     "name": "stderr",
     "output_type": "stream",
     "text": [
      "[*********************100%%**********************]  1 of 1 completed\n",
      "[*********************100%%**********************]  1 of 1 completed"
     ]
    },
    {
     "name": "stdout",
     "output_type": "stream",
     "text": [
      "74\n"
     ]
    },
    {
     "name": "stderr",
     "output_type": "stream",
     "text": [
      "\n"
     ]
    },
    {
     "name": "stdout",
     "output_type": "stream",
     "text": [
      "75\n"
     ]
    },
    {
     "name": "stderr",
     "output_type": "stream",
     "text": [
      "[*********************100%%**********************]  1 of 1 completed\n"
     ]
    },
    {
     "name": "stdout",
     "output_type": "stream",
     "text": [
      "76\n"
     ]
    },
    {
     "name": "stderr",
     "output_type": "stream",
     "text": [
      "[*********************100%%**********************]  1 of 1 completed\n",
      "[*********************100%%**********************]  1 of 1 completed"
     ]
    },
    {
     "name": "stdout",
     "output_type": "stream",
     "text": [
      "77\n"
     ]
    },
    {
     "name": "stderr",
     "output_type": "stream",
     "text": [
      "\n"
     ]
    },
    {
     "name": "stdout",
     "output_type": "stream",
     "text": [
      "78\n"
     ]
    },
    {
     "name": "stderr",
     "output_type": "stream",
     "text": [
      "[*********************100%%**********************]  1 of 1 completed\n",
      "[*********************100%%**********************]  1 of 1 completed"
     ]
    },
    {
     "name": "stdout",
     "output_type": "stream",
     "text": [
      "79\n"
     ]
    },
    {
     "name": "stderr",
     "output_type": "stream",
     "text": [
      "\n"
     ]
    },
    {
     "name": "stdout",
     "output_type": "stream",
     "text": [
      "80\n"
     ]
    },
    {
     "name": "stderr",
     "output_type": "stream",
     "text": [
      "[*********************100%%**********************]  1 of 1 completed\n"
     ]
    },
    {
     "name": "stdout",
     "output_type": "stream",
     "text": [
      "81\n"
     ]
    },
    {
     "name": "stderr",
     "output_type": "stream",
     "text": [
      "[*********************100%%**********************]  1 of 1 completed\n"
     ]
    },
    {
     "name": "stdout",
     "output_type": "stream",
     "text": [
      "82\n"
     ]
    },
    {
     "name": "stderr",
     "output_type": "stream",
     "text": [
      "[*********************100%%**********************]  1 of 1 completed\n"
     ]
    },
    {
     "name": "stdout",
     "output_type": "stream",
     "text": [
      "83\n"
     ]
    },
    {
     "name": "stderr",
     "output_type": "stream",
     "text": [
      "[*********************100%%**********************]  1 of 1 completed\n"
     ]
    },
    {
     "name": "stdout",
     "output_type": "stream",
     "text": [
      "84\n"
     ]
    },
    {
     "name": "stderr",
     "output_type": "stream",
     "text": [
      "[*********************100%%**********************]  1 of 1 completed\n"
     ]
    },
    {
     "name": "stdout",
     "output_type": "stream",
     "text": [
      "85\n"
     ]
    },
    {
     "name": "stderr",
     "output_type": "stream",
     "text": [
      "[*********************100%%**********************]  1 of 1 completed\n"
     ]
    },
    {
     "name": "stdout",
     "output_type": "stream",
     "text": [
      "86\n"
     ]
    },
    {
     "name": "stderr",
     "output_type": "stream",
     "text": [
      "[*********************100%%**********************]  1 of 1 completed\n",
      "[*********************100%%**********************]  1 of 1 completed"
     ]
    },
    {
     "name": "stdout",
     "output_type": "stream",
     "text": [
      "87\n"
     ]
    },
    {
     "name": "stderr",
     "output_type": "stream",
     "text": [
      "\n",
      "[*********************100%%**********************]  1 of 1 completed"
     ]
    },
    {
     "name": "stdout",
     "output_type": "stream",
     "text": [
      "88\n"
     ]
    },
    {
     "name": "stderr",
     "output_type": "stream",
     "text": [
      "\n",
      "[*********************100%%**********************]  1 of 1 completed"
     ]
    },
    {
     "name": "stdout",
     "output_type": "stream",
     "text": [
      "89\n"
     ]
    },
    {
     "name": "stderr",
     "output_type": "stream",
     "text": [
      "\n",
      "[*********************100%%**********************]  1 of 1 completed"
     ]
    },
    {
     "name": "stdout",
     "output_type": "stream",
     "text": [
      "90\n"
     ]
    },
    {
     "name": "stderr",
     "output_type": "stream",
     "text": [
      "\n"
     ]
    },
    {
     "name": "stdout",
     "output_type": "stream",
     "text": [
      "91\n"
     ]
    },
    {
     "name": "stderr",
     "output_type": "stream",
     "text": [
      "[*********************100%%**********************]  1 of 1 completed\n"
     ]
    },
    {
     "name": "stdout",
     "output_type": "stream",
     "text": [
      "92\n"
     ]
    },
    {
     "name": "stderr",
     "output_type": "stream",
     "text": [
      "[*********************100%%**********************]  1 of 1 completed\n",
      "[*********************100%%**********************]  1 of 1 completed"
     ]
    },
    {
     "name": "stdout",
     "output_type": "stream",
     "text": [
      "93\n"
     ]
    },
    {
     "name": "stderr",
     "output_type": "stream",
     "text": [
      "\n"
     ]
    },
    {
     "name": "stdout",
     "output_type": "stream",
     "text": [
      "94\n"
     ]
    },
    {
     "name": "stderr",
     "output_type": "stream",
     "text": [
      "[*********************100%%**********************]  1 of 1 completed\n"
     ]
    },
    {
     "name": "stdout",
     "output_type": "stream",
     "text": [
      "95\n"
     ]
    },
    {
     "name": "stderr",
     "output_type": "stream",
     "text": [
      "[*********************100%%**********************]  1 of 1 completed\n",
      "[*********************100%%**********************]  1 of 1 completed"
     ]
    },
    {
     "name": "stdout",
     "output_type": "stream",
     "text": [
      "96\n"
     ]
    },
    {
     "name": "stderr",
     "output_type": "stream",
     "text": [
      "\n",
      "[*********************100%%**********************]  1 of 1 completed"
     ]
    },
    {
     "name": "stdout",
     "output_type": "stream",
     "text": [
      "97\n"
     ]
    },
    {
     "name": "stderr",
     "output_type": "stream",
     "text": [
      "\n"
     ]
    },
    {
     "name": "stdout",
     "output_type": "stream",
     "text": [
      "98\n"
     ]
    },
    {
     "name": "stderr",
     "output_type": "stream",
     "text": [
      "[*********************100%%**********************]  1 of 1 completed\n"
     ]
    },
    {
     "name": "stdout",
     "output_type": "stream",
     "text": [
      "99\n",
      "Fin.\n",
      "CPU times: user 13min 17s, sys: 10.2 s, total: 13min 28s\n",
      "Wall time: 14min 8s\n"
     ]
    }
   ],
   "source": [
    "%%time\n",
    "'''\n",
    "Get the KS error for the normal and k-generalised tail fits to negative and positive log-returns\n",
    "for FTSE 100 stocks and Nasdaq top 100 stocks. Note some returns are extreme and can give an error when minimising negative\n",
    "of log-likelihood to fit k-gen.\n",
    "Takes around 1min 15s.\n",
    "'''\n",
    "\n",
    "params_FTSE100, errors_FTSE100_norm, errors_FTSE100_levy_stable, errors_FTSE100_k_gen = tail_fns.tail_params_errors(FTSE100_stocks1)\n",
    "print('Fin.')\n",
    "params_Nasdaq100, errors_Nasdaq100_norm, errors_Nasdaq100_levy_stable, errors_Nasdaq100_k_gen  = tail_fns.tail_params_errors(Nasdaq100_stocks)\n",
    "print('Fin.')"
   ]
  },
  {
   "cell_type": "code",
   "execution_count": 10,
   "id": "aa9f5629-4653-4190-8e47-92d58c5bbd6f",
   "metadata": {},
   "outputs": [],
   "source": [
    "params_FTSE100 = np.array(params_FTSE100,dtype=object)\n",
    "params_Nasdaq100 = np.array(params_Nasdaq100,dtype=object)"
   ]
  },
  {
   "cell_type": "code",
   "execution_count": 11,
   "id": "7c11dd28-b900-4d94-a020-0e0447469a57",
   "metadata": {},
   "outputs": [
    {
     "name": "stdout",
     "output_type": "stream",
     "text": [
      "90\n",
      "97\n",
      " \n",
      "100\n",
      "100\n",
      " \n",
      "100\n",
      "100\n"
     ]
    }
   ],
   "source": [
    "# Print how many times error of normal fit worse than Levy-stable\n",
    "print(tail_fns.where_greater(errors_FTSE100_norm, errors_FTSE100_levy_stable))\n",
    "print(tail_fns.where_greater(errors_Nasdaq100_norm, errors_Nasdaq100_levy_stable))\n",
    "print(' ')\n",
    "# Print how many times error of normal fit worse than k-gen fit\n",
    "print(tail_fns.where_greater(errors_FTSE100_norm, errors_FTSE100_k_gen))\n",
    "print(tail_fns.where_greater(errors_Nasdaq100_norm, errors_Nasdaq100_k_gen))\n",
    "print(' ')\n",
    "# Print how many times error of Levy-stable fit worse than k-gen fit\n",
    "print(tail_fns.where_greater(errors_FTSE100_levy_stable, errors_FTSE100_k_gen))\n",
    "print(tail_fns.where_greater(errors_Nasdaq100_levy_stable, errors_Nasdaq100_k_gen))"
   ]
  },
  {
   "cell_type": "code",
   "execution_count": 12,
   "id": "4ce5befc-2603-4de2-b2af-f0f0f57a5bcb",
   "metadata": {},
   "outputs": [
    {
     "name": "stdout",
     "output_type": "stream",
     "text": [
      "FTSE 100 root mean square errors (min, max, mean, variance) for normal, Levy-stable and k-gen:\n",
      "(0.055818479146386574, 0.3841793130257759, 0.10943312589995514, 0.0028383603327890496)\n",
      "(0.013056139296843128, 0.3534592914086392, 0.07043120537170224, 0.003250800301233977)\n",
      "(0.005439878028727196, 0.02255077186323129, 0.010579915678560148, 1.3789877599186044e-05)\n",
      "\n",
      " Nasdaq top 100 root mean square errors (min, max, mean, variance) for normal, Levy-stable and k-gen:\n",
      "(0.034597657093791284, 0.22394521250587957, 0.09607959498984181, 0.0006049399398806722)\n",
      "(0.013769844657091301, 0.14711761481866048, 0.050135057460989, 0.0006735044936647429)\n",
      "(0.004212917943305916, 0.020936431276096706, 0.009094850670629621, 1.1554088481691952e-05)\n"
     ]
    }
   ],
   "source": [
    "# Characteristics (min, max, mean, variance) for the normal, Levy-stable  and k-gen errors to FTSE 100 stocks\n",
    "\n",
    "print('FTSE 100 root mean square errors (min, max, mean, variance) for normal, Levy-stable and k-gen:')\n",
    "print(tail_fns.get_characteristics_errors(errors_FTSE100_norm))\n",
    "print(tail_fns.get_characteristics_errors(errors_FTSE100_levy_stable))\n",
    "print(tail_fns.get_characteristics_errors(errors_FTSE100_k_gen))\n",
    "print('\\n Nasdaq top 100 root mean square errors (min, max, mean, variance) for normal, Levy-stable and k-gen:')\n",
    "print(tail_fns.get_characteristics_errors(errors_Nasdaq100_norm))\n",
    "print(tail_fns.get_characteristics_errors(errors_Nasdaq100_levy_stable))\n",
    "print(tail_fns.get_characteristics_errors(errors_Nasdaq100_k_gen))"
   ]
  },
  {
   "cell_type": "code",
   "execution_count": 13,
   "id": "fa340ea1-41d5-4bff-9527-6e2f2d79342f",
   "metadata": {},
   "outputs": [
    {
     "data": {
      "image/png": "[encoded data removed]",
      "text/plain": [
       "<Figure size 800x500 with 6 Axes>"
      ]
     },
     "metadata": {},
     "output_type": "display_data"
    }
   ],
   "source": [
    "# Histogram of normal, Levy-stable and k-gen KS error fits to FTSE 100 and Nasdaq top 100.\n",
    "\n",
    "fig, ax = plt.subplots(3, 2, figsize=(8,5))\n",
    "\n",
    "n_bins = 20\n",
    "font_sizes = [10,10,10,10,10]\n",
    "leg = 1\n",
    "labels=[r'$x$','Density',font_sizes,leg]\n",
    "\n",
    "ax[0,0].hist(errors_FTSE100_norm, bins=n_bins, rwidth=0.85, density = True, label = 'Normal FTSE 100')\n",
    "plotting(ax[0,0],*labels).add_labels()\n",
    "\n",
    "ax[0,1].hist(errors_Nasdaq100_norm, bins=n_bins, rwidth=0.85, density = True, label = 'Normal Nasdaq \\n top 100')\n",
    "plotting(ax[0,1],*labels).add_labels()\n",
    "\n",
    "ax[1,0].hist(errors_FTSE100_levy_stable, bins=n_bins, rwidth=0.85, density = True, label = 'Levy-stable FTSE 100')\n",
    "plotting(ax[1,0],*labels).add_labels()\n",
    "\n",
    "ax[1,1].hist(errors_Nasdaq100_levy_stable, bins=n_bins, rwidth=0.85, density = True, label = 'Levy-stable Nasdaq top 100')\n",
    "plotting(ax[1,1],*labels).add_labels()\n",
    "\n",
    "ax[2,0].hist(errors_FTSE100_k_gen, bins=n_bins, rwidth=0.85, density = True, label = r'$k$-gen. FTSE 100')\n",
    "plotting(ax[2,0],*labels).add_labels()\n",
    "\n",
    "ax[2,1].hist(errors_Nasdaq100_k_gen, bins=n_bins, rwidth=0.85, density = True, label = r'$k$-gen. Nasdaq top 100')\n",
    "plotting(ax[2,1],*labels).add_labels()\n",
    "\n",
    "plt.tight_layout()"
   ]
  },
  {
   "cell_type": "code",
   "execution_count": 14,
   "id": "6d7d6667-77ed-4ed9-b47b-a15dc689e1dd",
   "metadata": {
    "scrolled": true
   },
   "outputs": [
    {
     "name": "stderr",
     "output_type": "stream",
     "text": [
      "[*********************100%%**********************]  1 of 1 completed"
     ]
    },
    {
     "name": "stdout",
     "output_type": "stream",
     "text": [
      "AAF.L\n"
     ]
    },
    {
     "name": "stderr",
     "output_type": "stream",
     "text": [
      "\n"
     ]
    },
    {
     "ename": "NameError",
     "evalue": "name 'tail_error' is not defined",
     "output_type": "error",
     "traceback": [
      "\u001b[0;31m---------------------------------------------------------------------------\u001b[0m",
      "\u001b[0;31mNameError\u001b[0m                                 Traceback (most recent call last)",
      "File \u001b[0;32m<timed exec>:10\u001b[0m\n",
      "\u001b[0;31mNameError\u001b[0m: name 'tail_error' is not defined"
     ]
    }
   ],
   "source": [
    "%%time\n",
    "\n",
    "'''\n",
    "Plots of all FTSE 100 stocks.\n",
    "Takes around .\n",
    "'''\n",
    "\n",
    "for i in range(len(FTSE100_stocks1)):\n",
    "    stock = FTSE100_stocks1[i]\n",
    "    print(stock)\n",
    "    data = yf.download(stock, period=\"max\")\n",
    "    print(tail_error(data))\n",
    "    plot_stock_info(data,stock)"
   ]
  },
  {
   "cell_type": "code",
   "execution_count": 15,
   "id": "65495d7e-39d2-44bc-b250-391bada73149",
   "metadata": {
    "scrolled": true
   },
   "outputs": [
    {
     "name": "stdout",
     "output_type": "stream",
     "text": [
      "AAPL\n"
     ]
    },
    {
     "name": "stderr",
     "output_type": "stream",
     "text": [
      "[*********************100%%**********************]  1 of 1 completed\n"
     ]
    },
    {
     "ename": "NameError",
     "evalue": "name 'tail_error' is not defined",
     "output_type": "error",
     "traceback": [
      "\u001b[0;31m---------------------------------------------------------------------------\u001b[0m",
      "\u001b[0;31mNameError\u001b[0m                                 Traceback (most recent call last)",
      "File \u001b[0;32m<timed exec>:11\u001b[0m\n",
      "\u001b[0;31mNameError\u001b[0m: name 'tail_error' is not defined"
     ]
    }
   ],
   "source": [
    "%%time\n",
    "\n",
    "'''\n",
    "Plots of all Nasdaq top 100 stocks.\n",
    "Nasdaq top 100 stocks with fitting/other issues:\n",
    "Takes around  .\n",
    "'''\n",
    "\n",
    "for i in range(len(Nasdaq100_stocks)):\n",
    "    stock = Nasdaq100_stocks[i]\n",
    "    print(stock)\n",
    "    data = yf.download(stock, period=\"max\")\n",
    "    print(tail_error(data))\n",
    "    plot_stock_info(data,stock)"
   ]
  },
  {
   "cell_type": "markdown",
   "id": "22852fbe-8250-4989-a032-1cf9ec7e155f",
   "metadata": {},
   "source": [
    "https://stats.stackexchange.com/questions/126539/testing-whether-data-follows-t-distribution/126552#126552\n",
    "\n",
    "https://stats.stackexchange.com/questions/45033/can-i-use-kolmogorov-smirnov-test-and-estimate-distribution-parameters"
   ]
  },
  {
   "cell_type": "code",
   "execution_count": 16,
   "id": "7f1476a2-3ae9-4901-b794-efbc63219496",
   "metadata": {
    "scrolled": true
   },
   "outputs": [
    {
     "name": "stderr",
     "output_type": "stream",
     "text": [
      "[*********************100%%**********************]  1 of 1 completed\n",
      "[*********************100%%**********************]  1 of 1 completed\n"
     ]
    },
    {
     "name": "stdout",
     "output_type": "stream",
     "text": [
      "0.66 0.75\n",
      "0.01 0.06\n",
      "0\n"
     ]
    },
    {
     "name": "stderr",
     "output_type": "stream",
     "text": [
      "[*********************100%%**********************]  1 of 1 completed\n",
      "[*********************100%%**********************]  1 of 1 completed\n"
     ]
    },
    {
     "name": "stdout",
     "output_type": "stream",
     "text": [
      "0.45 0.2\n",
      "0.71 0.69\n",
      "1\n"
     ]
    },
    {
     "name": "stderr",
     "output_type": "stream",
     "text": [
      "[*********************100%%**********************]  1 of 1 completed\n",
      "[*********************100%%**********************]  1 of 1 completed\n"
     ]
    },
    {
     "name": "stdout",
     "output_type": "stream",
     "text": [
      "0.0 0.0\n",
      "0.01 0.03\n",
      "2\n"
     ]
    },
    {
     "name": "stderr",
     "output_type": "stream",
     "text": [
      "[*********************100%%**********************]  1 of 1 completed\n",
      "[*********************100%%**********************]  1 of 1 completed\n"
     ]
    },
    {
     "name": "stdout",
     "output_type": "stream",
     "text": [
      "0.0 0.17\n",
      "0.14 0.0\n",
      "3\n"
     ]
    },
    {
     "name": "stderr",
     "output_type": "stream",
     "text": [
      "[*********************100%%**********************]  1 of 1 completed\n",
      "[*********************100%%**********************]  1 of 1 completed\n"
     ]
    },
    {
     "name": "stdout",
     "output_type": "stream",
     "text": [
      "0.0 0.0\n",
      "0.0 0.0\n",
      "4\n"
     ]
    },
    {
     "name": "stderr",
     "output_type": "stream",
     "text": [
      "[*********************100%%**********************]  1 of 1 completed\n",
      "[*********************100%%**********************]  1 of 1 completed\n",
      "[*********************100%%**********************]  1 of 1 completed"
     ]
    },
    {
     "name": "stdout",
     "output_type": "stream",
     "text": [
      "0.0 0.0\n",
      "0.43 0.03\n",
      "5\n"
     ]
    },
    {
     "name": "stderr",
     "output_type": "stream",
     "text": [
      "\n",
      "[*********************100%%**********************]  1 of 1 completed\n",
      "/var/folders/pv/jsktch8x0vdg6f2rb7pcpzd40000gn/T/ipykernel_27783/2980152425.py:205: RuntimeWarning: divide by zero encountered in log\n",
      "  return -np.sum(np.log(k_gen_fitting.k_gen_dens(x,*params)))\n",
      "/Library/Frameworks/Python.framework/Versions/3.12/lib/python3.12/site-packages/scipy/optimize/_numdiff.py:590: RuntimeWarning: invalid value encountered in subtract\n",
      "  df = fun(x) - f0\n"
     ]
    },
    {
     "name": "stdout",
     "output_type": "stream",
     "text": [
      "0.19 0.03\n",
      "0.0 0.0\n",
      "6\n"
     ]
    },
    {
     "name": "stderr",
     "output_type": "stream",
     "text": [
      "[*********************100%%**********************]  1 of 1 completed\n",
      "[*********************100%%**********************]  1 of 1 completed\n",
      "/var/folders/pv/jsktch8x0vdg6f2rb7pcpzd40000gn/T/ipykernel_27783/2980152425.py:205: RuntimeWarning: divide by zero encountered in log\n",
      "  return -np.sum(np.log(k_gen_fitting.k_gen_dens(x,*params)))\n"
     ]
    },
    {
     "name": "stdout",
     "output_type": "stream",
     "text": [
      "0.0 0.0\n",
      "0.04 0.04\n",
      "7\n"
     ]
    },
    {
     "name": "stderr",
     "output_type": "stream",
     "text": [
      "[*********************100%%**********************]  1 of 1 completed\n",
      "[*********************100%%**********************]  1 of 1 completed\n"
     ]
    },
    {
     "name": "stdout",
     "output_type": "stream",
     "text": [
      "0.27 0.36\n",
      "0.0 0.01\n",
      "8\n"
     ]
    },
    {
     "name": "stderr",
     "output_type": "stream",
     "text": [
      "[*********************100%%**********************]  1 of 1 completed\n",
      "[*********************100%%**********************]  1 of 1 completed\n"
     ]
    },
    {
     "name": "stdout",
     "output_type": "stream",
     "text": [
      "0.0 0.0\n",
      "0.02 0.14\n",
      "9\n"
     ]
    },
    {
     "name": "stderr",
     "output_type": "stream",
     "text": [
      "[*********************100%%**********************]  1 of 1 completed\n",
      "[*********************100%%**********************]  1 of 1 completed\n"
     ]
    },
    {
     "name": "stdout",
     "output_type": "stream",
     "text": [
      "0.1 0.01\n",
      "0.17 0.2\n",
      "10\n"
     ]
    },
    {
     "name": "stderr",
     "output_type": "stream",
     "text": [
      "[*********************100%%**********************]  1 of 1 completed\n",
      "[*********************100%%**********************]  1 of 1 completed\n"
     ]
    },
    {
     "name": "stdout",
     "output_type": "stream",
     "text": [
      "0.02 0.3\n",
      "0.81 0.43\n",
      "11\n"
     ]
    },
    {
     "name": "stderr",
     "output_type": "stream",
     "text": [
      "[*********************100%%**********************]  1 of 1 completed\n",
      "[*********************100%%**********************]  1 of 1 completed\n"
     ]
    },
    {
     "name": "stdout",
     "output_type": "stream",
     "text": [
      "0.02 0.0\n",
      "0.02 0.73\n",
      "12\n"
     ]
    },
    {
     "name": "stderr",
     "output_type": "stream",
     "text": [
      "[*********************100%%**********************]  1 of 1 completed\n",
      "[*********************100%%**********************]  1 of 1 completed\n"
     ]
    },
    {
     "name": "stdout",
     "output_type": "stream",
     "text": [
      "0.0 0.0\n",
      "0.32 0.18\n",
      "13\n"
     ]
    },
    {
     "name": "stderr",
     "output_type": "stream",
     "text": [
      "[*********************100%%**********************]  1 of 1 completed\n",
      "[*********************100%%**********************]  1 of 1 completed\n",
      "[*********************100%%**********************]  1 of 1 completed"
     ]
    },
    {
     "name": "stdout",
     "output_type": "stream",
     "text": [
      "0.0 0.0\n",
      "0.13 0.59\n",
      "14\n"
     ]
    },
    {
     "name": "stderr",
     "output_type": "stream",
     "text": [
      "\n",
      "[*********************100%%**********************]  1 of 1 completed\n"
     ]
    },
    {
     "name": "stdout",
     "output_type": "stream",
     "text": [
      "0.11 0.85\n",
      "0.19 0.03\n",
      "15\n"
     ]
    },
    {
     "name": "stderr",
     "output_type": "stream",
     "text": [
      "[*********************100%%**********************]  1 of 1 completed\n",
      "[*********************100%%**********************]  1 of 1 completed\n"
     ]
    },
    {
     "name": "stdout",
     "output_type": "stream",
     "text": [
      "0.03 0.09\n",
      "0.04 0.21\n",
      "16\n"
     ]
    },
    {
     "name": "stderr",
     "output_type": "stream",
     "text": [
      "[*********************100%%**********************]  1 of 1 completed\n",
      "[*********************100%%**********************]  1 of 1 completed\n"
     ]
    },
    {
     "name": "stdout",
     "output_type": "stream",
     "text": [
      "0.04 0.21\n",
      "0.01 0.57\n",
      "17\n"
     ]
    },
    {
     "name": "stderr",
     "output_type": "stream",
     "text": [
      "[*********************100%%**********************]  1 of 1 completed\n",
      "[*********************100%%**********************]  1 of 1 completed\n"
     ]
    },
    {
     "name": "stdout",
     "output_type": "stream",
     "text": [
      "0.12 0.17\n",
      "0.0 0.0\n",
      "18\n"
     ]
    },
    {
     "name": "stderr",
     "output_type": "stream",
     "text": [
      "[*********************100%%**********************]  1 of 1 completed\n",
      "[*********************100%%**********************]  1 of 1 completed\n",
      "[*********************100%%**********************]  1 of 1 completed"
     ]
    },
    {
     "name": "stdout",
     "output_type": "stream",
     "text": [
      "0.01 0.12\n",
      "0.03 0.0\n",
      "19\n"
     ]
    },
    {
     "name": "stderr",
     "output_type": "stream",
     "text": [
      "\n",
      "[*********************100%%**********************]  1 of 1 completed\n"
     ]
    },
    {
     "name": "stdout",
     "output_type": "stream",
     "text": [
      "0.0 0.15\n",
      "0.82 0.26\n",
      "20\n"
     ]
    },
    {
     "name": "stderr",
     "output_type": "stream",
     "text": [
      "[*********************100%%**********************]  1 of 1 completed\n",
      "[*********************100%%**********************]  1 of 1 completed\n"
     ]
    },
    {
     "name": "stdout",
     "output_type": "stream",
     "text": [
      "0.04 0.64\n",
      "0.72 0.94\n",
      "21\n"
     ]
    },
    {
     "name": "stderr",
     "output_type": "stream",
     "text": [
      "[*********************100%%**********************]  1 of 1 completed\n",
      "[*********************100%%**********************]  1 of 1 completed\n"
     ]
    },
    {
     "name": "stdout",
     "output_type": "stream",
     "text": [
      "0.02 0.06\n",
      "0.34 0.49\n",
      "22\n"
     ]
    },
    {
     "name": "stderr",
     "output_type": "stream",
     "text": [
      "[*********************100%%**********************]  1 of 1 completed\n",
      "[*********************100%%**********************]  1 of 1 completed\n",
      "[*********************100%%**********************]  1 of 1 completed"
     ]
    },
    {
     "name": "stdout",
     "output_type": "stream",
     "text": [
      "0.0 0.0\n",
      "0.0 0.0\n",
      "23\n"
     ]
    },
    {
     "name": "stderr",
     "output_type": "stream",
     "text": [
      "\n",
      "[*********************100%%**********************]  1 of 1 completed\n"
     ]
    },
    {
     "name": "stdout",
     "output_type": "stream",
     "text": [
      "0.12 0.29\n",
      "0.0 0.0\n",
      "24\n"
     ]
    },
    {
     "name": "stderr",
     "output_type": "stream",
     "text": [
      "[*********************100%%**********************]  1 of 1 completed\n",
      "[*********************100%%**********************]  1 of 1 completed\n",
      "/var/folders/pv/jsktch8x0vdg6f2rb7pcpzd40000gn/T/ipykernel_27783/2980152425.py:205: RuntimeWarning: divide by zero encountered in log\n",
      "  return -np.sum(np.log(k_gen_fitting.k_gen_dens(x,*params)))\n",
      "/Library/Frameworks/Python.framework/Versions/3.12/lib/python3.12/site-packages/scipy/optimize/_numdiff.py:590: RuntimeWarning: invalid value encountered in subtract\n",
      "  df = fun(x) - f0\n",
      "/var/folders/pv/jsktch8x0vdg6f2rb7pcpzd40000gn/T/ipykernel_27783/2980152425.py:195: RuntimeWarning: overflow encountered in power\n",
      "  s1=a*b*x**(a-1)\n",
      "/var/folders/pv/jsktch8x0vdg6f2rb7pcpzd40000gn/T/ipykernel_27783/2980152425.py:196: RuntimeWarning: overflow encountered in power\n",
      "  s2=np.sqrt(1+b**2*k**2*x**(2*a))\n",
      "/var/folders/pv/jsktch8x0vdg6f2rb7pcpzd40000gn/T/ipykernel_27783/2980152425.py:104: RuntimeWarning: overflow encountered in power\n",
      "  x1= -b*x**a\n",
      "/var/folders/pv/jsktch8x0vdg6f2rb7pcpzd40000gn/T/ipykernel_27783/2980152425.py:97: RuntimeWarning: invalid value encountered in add\n",
      "  return (np.sqrt(1+k**2*x**2)+k*x)**(1/k)\n",
      "/var/folders/pv/jsktch8x0vdg6f2rb7pcpzd40000gn/T/ipykernel_27783/2980152425.py:198: RuntimeWarning: invalid value encountered in divide\n",
      "  return s1/s2*s3\n",
      "/var/folders/pv/jsktch8x0vdg6f2rb7pcpzd40000gn/T/ipykernel_27783/2980152425.py:97: RuntimeWarning: overflow encountered in square\n",
      "  return (np.sqrt(1+k**2*x**2)+k*x)**(1/k)\n",
      "/var/folders/pv/jsktch8x0vdg6f2rb7pcpzd40000gn/T/ipykernel_27783/2980152425.py:198: RuntimeWarning: invalid value encountered in multiply\n",
      "  return s1/s2*s3\n",
      "/var/folders/pv/jsktch8x0vdg6f2rb7pcpzd40000gn/T/ipykernel_27783/2980152425.py:97: RuntimeWarning: invalid value encountered in power\n",
      "  return (np.sqrt(1+k**2*x**2)+k*x)**(1/k)\n"
     ]
    },
    {
     "name": "stdout",
     "output_type": "stream",
     "text": [
      "0.12 0.16\n",
      "0.3 0.15\n",
      "25\n"
     ]
    },
    {
     "name": "stderr",
     "output_type": "stream",
     "text": [
      "[*********************100%%**********************]  1 of 1 completed\n",
      "[*********************100%%**********************]  1 of 1 completed\n"
     ]
    },
    {
     "name": "stdout",
     "output_type": "stream",
     "text": [
      "0.0 0.03\n",
      "0.04 0.88\n",
      "26\n"
     ]
    },
    {
     "name": "stderr",
     "output_type": "stream",
     "text": [
      "[*********************100%%**********************]  1 of 1 completed\n",
      "[*********************100%%**********************]  1 of 1 completed\n"
     ]
    },
    {
     "name": "stdout",
     "output_type": "stream",
     "text": [
      "0.0 0.0\n",
      "0.0 0.12\n",
      "27\n"
     ]
    },
    {
     "name": "stderr",
     "output_type": "stream",
     "text": [
      "[*********************100%%**********************]  1 of 1 completed\n",
      "[*********************100%%**********************]  1 of 1 completed\n",
      "/var/folders/pv/jsktch8x0vdg6f2rb7pcpzd40000gn/T/ipykernel_27783/2980152425.py:205: RuntimeWarning: divide by zero encountered in log\n",
      "  return -np.sum(np.log(k_gen_fitting.k_gen_dens(x,*params)))\n",
      "/var/folders/pv/jsktch8x0vdg6f2rb7pcpzd40000gn/T/ipykernel_27783/2980152425.py:97: RuntimeWarning: invalid value encountered in power\n",
      "  return (np.sqrt(1+k**2*x**2)+k*x)**(1/k)\n",
      "/Library/Frameworks/Python.framework/Versions/3.12/lib/python3.12/site-packages/scipy/optimize/_numdiff.py:590: RuntimeWarning: invalid value encountered in subtract\n",
      "  df = fun(x) - f0\n",
      "[*********************100%%**********************]  1 of 1 completed"
     ]
    },
    {
     "name": "stdout",
     "output_type": "stream",
     "text": [
      "0.03 0.06\n",
      "0.31 0.99\n",
      "28\n"
     ]
    },
    {
     "name": "stderr",
     "output_type": "stream",
     "text": [
      "\n",
      "[*********************100%%**********************]  1 of 1 completed\n"
     ]
    },
    {
     "name": "stdout",
     "output_type": "stream",
     "text": [
      "0.13 0.25\n",
      "0.0 0.0\n",
      "29\n"
     ]
    },
    {
     "name": "stderr",
     "output_type": "stream",
     "text": [
      "[*********************100%%**********************]  1 of 1 completed\n",
      "[*********************100%%**********************]  1 of 1 completed\n"
     ]
    },
    {
     "name": "stdout",
     "output_type": "stream",
     "text": [
      "0.13 0.09\n",
      "0.01 0.04\n",
      "30\n"
     ]
    },
    {
     "name": "stderr",
     "output_type": "stream",
     "text": [
      "[*********************100%%**********************]  1 of 1 completed\n",
      "[*********************100%%**********************]  1 of 1 completed\n",
      "/var/folders/pv/jsktch8x0vdg6f2rb7pcpzd40000gn/T/ipykernel_27783/2980152425.py:205: RuntimeWarning: divide by zero encountered in log\n",
      "  return -np.sum(np.log(k_gen_fitting.k_gen_dens(x,*params)))\n",
      "/Library/Frameworks/Python.framework/Versions/3.12/lib/python3.12/site-packages/scipy/optimize/_numdiff.py:590: RuntimeWarning: invalid value encountered in subtract\n",
      "  df = fun(x) - f0\n"
     ]
    },
    {
     "name": "stdout",
     "output_type": "stream",
     "text": [
      "0.02 0.0\n",
      "0.7 0.59\n",
      "31\n"
     ]
    },
    {
     "name": "stderr",
     "output_type": "stream",
     "text": [
      "[*********************100%%**********************]  1 of 1 completed\n",
      "[*********************100%%**********************]  1 of 1 completed\n",
      "[*********************100%%**********************]  1 of 1 completed"
     ]
    },
    {
     "name": "stdout",
     "output_type": "stream",
     "text": [
      "0.58 0.4\n",
      "0.08 0.44\n",
      "32\n"
     ]
    },
    {
     "name": "stderr",
     "output_type": "stream",
     "text": [
      "\n",
      "[*********************100%%**********************]  1 of 1 completed\n",
      "/var/folders/pv/jsktch8x0vdg6f2rb7pcpzd40000gn/T/ipykernel_27783/2980152425.py:97: RuntimeWarning: invalid value encountered in power\n",
      "  return (np.sqrt(1+k**2*x**2)+k*x)**(1/k)\n",
      "/var/folders/pv/jsktch8x0vdg6f2rb7pcpzd40000gn/T/ipykernel_27783/2980152425.py:205: RuntimeWarning: divide by zero encountered in log\n",
      "  return -np.sum(np.log(k_gen_fitting.k_gen_dens(x,*params)))\n",
      "/Library/Frameworks/Python.framework/Versions/3.12/lib/python3.12/site-packages/scipy/optimize/_numdiff.py:590: RuntimeWarning: invalid value encountered in subtract\n",
      "  df = fun(x) - f0\n",
      "/var/folders/pv/jsktch8x0vdg6f2rb7pcpzd40000gn/T/ipykernel_27783/2980152425.py:196: RuntimeWarning: overflow encountered in power\n",
      "  s2=np.sqrt(1+b**2*k**2*x**(2*a))\n",
      "/var/folders/pv/jsktch8x0vdg6f2rb7pcpzd40000gn/T/ipykernel_27783/2980152425.py:97: RuntimeWarning: overflow encountered in square\n",
      "  return (np.sqrt(1+k**2*x**2)+k*x)**(1/k)\n",
      "/var/folders/pv/jsktch8x0vdg6f2rb7pcpzd40000gn/T/ipykernel_27783/2980152425.py:198: RuntimeWarning: invalid value encountered in multiply\n",
      "  return s1/s2*s3\n"
     ]
    },
    {
     "name": "stdout",
     "output_type": "stream",
     "text": [
      "0.08 0.19\n",
      "0.62 0.52\n",
      "33\n"
     ]
    },
    {
     "name": "stderr",
     "output_type": "stream",
     "text": [
      "[*********************100%%**********************]  1 of 1 completed\n",
      "[*********************100%%**********************]  1 of 1 completed\n",
      "[*********************100%%**********************]  1 of 1 completed"
     ]
    },
    {
     "name": "stdout",
     "output_type": "stream",
     "text": [
      "0.55 0.56\n",
      "0.54 0.51\n",
      "34\n"
     ]
    },
    {
     "name": "stderr",
     "output_type": "stream",
     "text": [
      "\n",
      "[*********************100%%**********************]  1 of 1 completed\n"
     ]
    },
    {
     "name": "stdout",
     "output_type": "stream",
     "text": [
      "0.42 0.9\n",
      "0.02 0.82\n",
      "35\n"
     ]
    },
    {
     "name": "stderr",
     "output_type": "stream",
     "text": [
      "[*********************100%%**********************]  1 of 1 completed\n",
      "[*********************100%%**********************]  1 of 1 completed\n"
     ]
    },
    {
     "name": "stdout",
     "output_type": "stream",
     "text": [
      "0.03 0.11\n",
      "0.09 0.01\n",
      "36\n"
     ]
    },
    {
     "name": "stderr",
     "output_type": "stream",
     "text": [
      "[*********************100%%**********************]  1 of 1 completed\n",
      "[*********************100%%**********************]  1 of 1 completed\n"
     ]
    },
    {
     "name": "stdout",
     "output_type": "stream",
     "text": [
      "0.07 0.31\n",
      "0.0 0.0\n",
      "37\n"
     ]
    },
    {
     "name": "stderr",
     "output_type": "stream",
     "text": [
      "[*********************100%%**********************]  1 of 1 completed\n",
      "[*********************100%%**********************]  1 of 1 completed\n",
      "[*********************100%%**********************]  1 of 1 completed"
     ]
    },
    {
     "name": "stdout",
     "output_type": "stream",
     "text": [
      "0.0 0.0\n",
      "0.33 0.38\n",
      "38\n"
     ]
    },
    {
     "name": "stderr",
     "output_type": "stream",
     "text": [
      "\n",
      "[*********************100%%**********************]  1 of 1 completed\n"
     ]
    },
    {
     "name": "stdout",
     "output_type": "stream",
     "text": [
      "0.71 0.52\n",
      "0.66 0.5\n",
      "39\n"
     ]
    },
    {
     "name": "stderr",
     "output_type": "stream",
     "text": [
      "[*********************100%%**********************]  1 of 1 completed\n",
      "[*********************100%%**********************]  1 of 1 completed\n"
     ]
    },
    {
     "name": "stdout",
     "output_type": "stream",
     "text": [
      "0.02 0.06\n",
      "0.16 0.17\n",
      "40\n"
     ]
    },
    {
     "name": "stderr",
     "output_type": "stream",
     "text": [
      "[*********************100%%**********************]  1 of 1 completed\n",
      "[*********************100%%**********************]  1 of 1 completed\n"
     ]
    },
    {
     "name": "stdout",
     "output_type": "stream",
     "text": [
      "0.0 0.0\n",
      "0.4 0.66\n",
      "41\n"
     ]
    },
    {
     "name": "stderr",
     "output_type": "stream",
     "text": [
      "[*********************100%%**********************]  1 of 1 completed\n",
      "[*********************100%%**********************]  1 of 1 completed\n"
     ]
    },
    {
     "name": "stdout",
     "output_type": "stream",
     "text": [
      "0.11 0.81\n",
      "0.92 0.88\n",
      "42\n"
     ]
    },
    {
     "name": "stderr",
     "output_type": "stream",
     "text": [
      "[*********************100%%**********************]  1 of 1 completed\n",
      "[*********************100%%**********************]  1 of 1 completed\n"
     ]
    },
    {
     "name": "stdout",
     "output_type": "stream",
     "text": [
      "0.0 0.0\n",
      "0.22 0.02\n",
      "43\n"
     ]
    },
    {
     "name": "stderr",
     "output_type": "stream",
     "text": [
      "[*********************100%%**********************]  1 of 1 completed\n",
      "[*********************100%%**********************]  1 of 1 completed\n"
     ]
    },
    {
     "name": "stdout",
     "output_type": "stream",
     "text": [
      "0.02 0.29\n",
      "0.71 0.04\n",
      "44\n"
     ]
    },
    {
     "name": "stderr",
     "output_type": "stream",
     "text": [
      "[*********************100%%**********************]  1 of 1 completed\n",
      "[*********************100%%**********************]  1 of 1 completed\n"
     ]
    },
    {
     "name": "stdout",
     "output_type": "stream",
     "text": [
      "0.0 0.0\n",
      "0.8 0.32\n",
      "45\n"
     ]
    },
    {
     "name": "stderr",
     "output_type": "stream",
     "text": [
      "[*********************100%%**********************]  1 of 1 completed\n",
      "[*********************100%%**********************]  1 of 1 completed\n"
     ]
    },
    {
     "name": "stdout",
     "output_type": "stream",
     "text": [
      "0.05 0.16\n",
      "0.0 0.0\n",
      "46\n"
     ]
    },
    {
     "name": "stderr",
     "output_type": "stream",
     "text": [
      "[*********************100%%**********************]  1 of 1 completed\n",
      "[*********************100%%**********************]  1 of 1 completed\n"
     ]
    },
    {
     "name": "stdout",
     "output_type": "stream",
     "text": [
      "0.0 0.0\n",
      "0.22 0.08\n",
      "47\n"
     ]
    },
    {
     "name": "stderr",
     "output_type": "stream",
     "text": [
      "[*********************100%%**********************]  1 of 1 completed\n",
      "[*********************100%%**********************]  1 of 1 completed\n",
      "/var/folders/pv/jsktch8x0vdg6f2rb7pcpzd40000gn/T/ipykernel_27783/2980152425.py:205: RuntimeWarning: divide by zero encountered in log\n",
      "  return -np.sum(np.log(k_gen_fitting.k_gen_dens(x,*params)))\n",
      "/Library/Frameworks/Python.framework/Versions/3.12/lib/python3.12/site-packages/scipy/optimize/_numdiff.py:590: RuntimeWarning: invalid value encountered in subtract\n",
      "  df = fun(x) - f0\n"
     ]
    },
    {
     "name": "stdout",
     "output_type": "stream",
     "text": [
      "0.05 0.0\n",
      "0.83 0.74\n",
      "48\n"
     ]
    },
    {
     "name": "stderr",
     "output_type": "stream",
     "text": [
      "[*********************100%%**********************]  1 of 1 completed\n",
      "[*********************100%%**********************]  1 of 1 completed\n"
     ]
    },
    {
     "name": "stdout",
     "output_type": "stream",
     "text": [
      "0.01 0.75\n",
      "0.0 0.0\n",
      "49\n"
     ]
    },
    {
     "name": "stderr",
     "output_type": "stream",
     "text": [
      "[*********************100%%**********************]  1 of 1 completed\n",
      "[*********************100%%**********************]  1 of 1 completed\n"
     ]
    },
    {
     "name": "stdout",
     "output_type": "stream",
     "text": [
      "0.01 0.0\n",
      "0.02 0.3\n",
      "50\n"
     ]
    },
    {
     "name": "stderr",
     "output_type": "stream",
     "text": [
      "[*********************100%%**********************]  1 of 1 completed\n",
      "[*********************100%%**********************]  1 of 1 completed\n"
     ]
    },
    {
     "name": "stdout",
     "output_type": "stream",
     "text": [
      "0.0 0.01\n",
      "0.39 0.96\n",
      "51\n"
     ]
    },
    {
     "name": "stderr",
     "output_type": "stream",
     "text": [
      "[*********************100%%**********************]  1 of 1 completed\n",
      "[*********************100%%**********************]  1 of 1 completed\n"
     ]
    },
    {
     "name": "stdout",
     "output_type": "stream",
     "text": [
      "0.0 0.0\n",
      "0.17 0.28\n",
      "52\n"
     ]
    },
    {
     "name": "stderr",
     "output_type": "stream",
     "text": [
      "[*********************100%%**********************]  1 of 1 completed\n",
      "[*********************100%%**********************]  1 of 1 completed\n"
     ]
    },
    {
     "name": "stdout",
     "output_type": "stream",
     "text": [
      "0.0 0.0\n",
      "0.72 0.98\n",
      "53\n"
     ]
    },
    {
     "name": "stderr",
     "output_type": "stream",
     "text": [
      "[*********************100%%**********************]  1 of 1 completed\n",
      "[*********************100%%**********************]  1 of 1 completed\n"
     ]
    },
    {
     "name": "stdout",
     "output_type": "stream",
     "text": [
      "0.26 0.08\n",
      "0.0 0.0\n",
      "54\n"
     ]
    },
    {
     "name": "stderr",
     "output_type": "stream",
     "text": [
      "[*********************100%%**********************]  1 of 1 completed\n",
      "[*********************100%%**********************]  1 of 1 completed\n"
     ]
    },
    {
     "name": "stdout",
     "output_type": "stream",
     "text": [
      "0.34 0.02\n",
      "0.58 0.8\n",
      "55\n"
     ]
    },
    {
     "name": "stderr",
     "output_type": "stream",
     "text": [
      "[*********************100%%**********************]  1 of 1 completed\n",
      "[*********************100%%**********************]  1 of 1 completed\n",
      "[*********************100%%**********************]  1 of 1 completed"
     ]
    },
    {
     "name": "stdout",
     "output_type": "stream",
     "text": [
      "0.0 0.0\n",
      "0.04 0.01\n",
      "56\n"
     ]
    },
    {
     "name": "stderr",
     "output_type": "stream",
     "text": [
      "\n",
      "[*********************100%%**********************]  1 of 1 completed\n",
      "[*********************100%%**********************]  1 of 1 completed"
     ]
    },
    {
     "name": "stdout",
     "output_type": "stream",
     "text": [
      "0.54 0.41\n",
      "0.53 0.83\n",
      "57\n"
     ]
    },
    {
     "name": "stderr",
     "output_type": "stream",
     "text": [
      "\n",
      "[*********************100%%**********************]  1 of 1 completed\n"
     ]
    },
    {
     "name": "stdout",
     "output_type": "stream",
     "text": [
      "0.23 0.72\n",
      "0.07 0.59\n",
      "58\n"
     ]
    },
    {
     "name": "stderr",
     "output_type": "stream",
     "text": [
      "[*********************100%%**********************]  1 of 1 completed\n",
      "[*********************100%%**********************]  1 of 1 completed\n"
     ]
    },
    {
     "name": "stdout",
     "output_type": "stream",
     "text": [
      "0.0 0.0\n",
      "0.41 0.09\n",
      "59\n"
     ]
    },
    {
     "name": "stderr",
     "output_type": "stream",
     "text": [
      "[*********************100%%**********************]  1 of 1 completed\n",
      "[*********************100%%**********************]  1 of 1 completed\n"
     ]
    },
    {
     "name": "stdout",
     "output_type": "stream",
     "text": [
      "0.0 0.0\n",
      "0.14 0.6\n",
      "60\n"
     ]
    },
    {
     "name": "stderr",
     "output_type": "stream",
     "text": [
      "[*********************100%%**********************]  1 of 1 completed\n",
      "[*********************100%%**********************]  1 of 1 completed\n"
     ]
    },
    {
     "name": "stdout",
     "output_type": "stream",
     "text": [
      "0.0 0.0\n",
      "0.22 0.62\n",
      "61\n"
     ]
    },
    {
     "name": "stderr",
     "output_type": "stream",
     "text": [
      "[*********************100%%**********************]  1 of 1 completed\n",
      "[*********************100%%**********************]  1 of 1 completed\n"
     ]
    },
    {
     "name": "stdout",
     "output_type": "stream",
     "text": [
      "0.0 0.36\n",
      "0.43 0.35\n",
      "62\n"
     ]
    },
    {
     "name": "stderr",
     "output_type": "stream",
     "text": [
      "[*********************100%%**********************]  1 of 1 completed\n",
      "[*********************100%%**********************]  1 of 1 completed\n",
      "[*********************100%%**********************]  1 of 1 completed"
     ]
    },
    {
     "name": "stdout",
     "output_type": "stream",
     "text": [
      "0.54 0.6\n",
      "0.19 0.0\n",
      "63\n"
     ]
    },
    {
     "name": "stderr",
     "output_type": "stream",
     "text": [
      "\n",
      "[*********************100%%**********************]  1 of 1 completed\n"
     ]
    },
    {
     "name": "stdout",
     "output_type": "stream",
     "text": [
      "0.09 0.56\n",
      "0.0 0.0\n",
      "64\n"
     ]
    },
    {
     "name": "stderr",
     "output_type": "stream",
     "text": [
      "[*********************100%%**********************]  1 of 1 completed\n",
      "[*********************100%%**********************]  1 of 1 completed\n",
      "[*********************100%%**********************]  1 of 1 completed"
     ]
    },
    {
     "name": "stdout",
     "output_type": "stream",
     "text": [
      "0.03 0.02\n",
      "0.66 0.68\n",
      "65\n"
     ]
    },
    {
     "name": "stderr",
     "output_type": "stream",
     "text": [
      "\n",
      "[*********************100%%**********************]  1 of 1 completed\n"
     ]
    },
    {
     "name": "stdout",
     "output_type": "stream",
     "text": [
      "0.0 0.05\n",
      "0.65 0.35\n",
      "66\n"
     ]
    },
    {
     "name": "stderr",
     "output_type": "stream",
     "text": [
      "[*********************100%%**********************]  1 of 1 completed\n",
      "[*********************100%%**********************]  1 of 1 completed\n"
     ]
    },
    {
     "name": "stdout",
     "output_type": "stream",
     "text": [
      "0.0 0.0\n",
      "0.01 0.79\n",
      "67\n"
     ]
    },
    {
     "name": "stderr",
     "output_type": "stream",
     "text": [
      "[*********************100%%**********************]  1 of 1 completed\n",
      "[*********************100%%**********************]  1 of 1 completed\n"
     ]
    },
    {
     "name": "stdout",
     "output_type": "stream",
     "text": [
      "0.0 0.01\n",
      "0.0 0.02\n",
      "68\n"
     ]
    },
    {
     "name": "stderr",
     "output_type": "stream",
     "text": [
      "[*********************100%%**********************]  1 of 1 completed\n",
      "[*********************100%%**********************]  1 of 1 completed\n"
     ]
    },
    {
     "name": "stdout",
     "output_type": "stream",
     "text": [
      "0.0 0.0\n",
      "0.5 0.18\n",
      "69\n"
     ]
    },
    {
     "name": "stderr",
     "output_type": "stream",
     "text": [
      "[*********************100%%**********************]  1 of 1 completed\n",
      "[*********************100%%**********************]  1 of 1 completed\n"
     ]
    },
    {
     "name": "stdout",
     "output_type": "stream",
     "text": [
      "0.01 0.1\n",
      "0.6 0.53\n",
      "70\n"
     ]
    },
    {
     "name": "stderr",
     "output_type": "stream",
     "text": [
      "[*********************100%%**********************]  1 of 1 completed\n",
      "[*********************100%%**********************]  1 of 1 completed\n"
     ]
    },
    {
     "name": "stdout",
     "output_type": "stream",
     "text": [
      "0.0 0.01\n",
      "0.01 0.08\n",
      "71\n"
     ]
    },
    {
     "name": "stderr",
     "output_type": "stream",
     "text": [
      "[*********************100%%**********************]  1 of 1 completed\n",
      "[*********************100%%**********************]  1 of 1 completed\n"
     ]
    },
    {
     "name": "stdout",
     "output_type": "stream",
     "text": [
      "0.03 0.8\n",
      "0.03 0.09\n",
      "72\n"
     ]
    },
    {
     "name": "stderr",
     "output_type": "stream",
     "text": [
      "[*********************100%%**********************]  1 of 1 completed\n",
      "[*********************100%%**********************]  1 of 1 completed\n"
     ]
    },
    {
     "name": "stdout",
     "output_type": "stream",
     "text": [
      "0.0 0.0\n",
      "0.0 0.36\n",
      "73\n"
     ]
    },
    {
     "name": "stderr",
     "output_type": "stream",
     "text": [
      "[*********************100%%**********************]  1 of 1 completed\n",
      "[*********************100%%**********************]  1 of 1 completed\n"
     ]
    },
    {
     "name": "stdout",
     "output_type": "stream",
     "text": [
      "0.0 0.0\n",
      "0.35 0.38\n",
      "74\n"
     ]
    },
    {
     "name": "stderr",
     "output_type": "stream",
     "text": [
      "[*********************100%%**********************]  1 of 1 completed\n",
      "[*********************100%%**********************]  1 of 1 completed\n"
     ]
    },
    {
     "name": "stdout",
     "output_type": "stream",
     "text": [
      "0.0 0.0\n",
      "0.94 0.33\n",
      "75\n"
     ]
    },
    {
     "name": "stderr",
     "output_type": "stream",
     "text": [
      "[*********************100%%**********************]  1 of 1 completed\n",
      "[*********************100%%**********************]  1 of 1 completed\n"
     ]
    },
    {
     "name": "stdout",
     "output_type": "stream",
     "text": [
      "0.07 0.0\n",
      "0.48 0.0\n",
      "76\n"
     ]
    },
    {
     "name": "stderr",
     "output_type": "stream",
     "text": [
      "[*********************100%%**********************]  1 of 1 completed\n",
      "[*********************100%%**********************]  1 of 1 completed\n"
     ]
    },
    {
     "name": "stdout",
     "output_type": "stream",
     "text": [
      "0.0 0.0\n",
      "0.0 0.0\n",
      "77\n"
     ]
    },
    {
     "name": "stderr",
     "output_type": "stream",
     "text": [
      "[*********************100%%**********************]  1 of 1 completed\n",
      "[*********************100%%**********************]  1 of 1 completed\n"
     ]
    },
    {
     "name": "stdout",
     "output_type": "stream",
     "text": [
      "0.0 0.0\n",
      "0.75 0.2\n",
      "78\n"
     ]
    },
    {
     "name": "stderr",
     "output_type": "stream",
     "text": [
      "[*********************100%%**********************]  1 of 1 completed\n",
      "[*********************100%%**********************]  1 of 1 completed\n"
     ]
    },
    {
     "name": "stdout",
     "output_type": "stream",
     "text": [
      "0.0 0.0\n",
      "0.0 0.0\n",
      "79\n"
     ]
    },
    {
     "name": "stderr",
     "output_type": "stream",
     "text": [
      "[*********************100%%**********************]  1 of 1 completed\n",
      "[*********************100%%**********************]  1 of 1 completed\n"
     ]
    },
    {
     "name": "stdout",
     "output_type": "stream",
     "text": [
      "0.15 0.49\n",
      "0.51 0.89\n",
      "80\n"
     ]
    },
    {
     "name": "stderr",
     "output_type": "stream",
     "text": [
      "[*********************100%%**********************]  1 of 1 completed\n",
      "[*********************100%%**********************]  1 of 1 completed\n"
     ]
    },
    {
     "name": "stdout",
     "output_type": "stream",
     "text": [
      "0.28 0.46\n",
      "0.01 0.63\n",
      "81\n"
     ]
    },
    {
     "name": "stderr",
     "output_type": "stream",
     "text": [
      "[*********************100%%**********************]  1 of 1 completed\n",
      "[*********************100%%**********************]  1 of 1 completed\n"
     ]
    },
    {
     "name": "stdout",
     "output_type": "stream",
     "text": [
      "0.0 0.0\n",
      "0.02 0.0\n",
      "82\n"
     ]
    },
    {
     "name": "stderr",
     "output_type": "stream",
     "text": [
      "[*********************100%%**********************]  1 of 1 completed\n",
      "[*********************100%%**********************]  1 of 1 completed\n"
     ]
    },
    {
     "name": "stdout",
     "output_type": "stream",
     "text": [
      "0.0 0.0\n",
      "0.48 0.11\n",
      "83\n"
     ]
    },
    {
     "name": "stderr",
     "output_type": "stream",
     "text": [
      "[*********************100%%**********************]  1 of 1 completed\n",
      "[*********************100%%**********************]  1 of 1 completed\n",
      "/var/folders/pv/jsktch8x0vdg6f2rb7pcpzd40000gn/T/ipykernel_27783/2980152425.py:205: RuntimeWarning: divide by zero encountered in log\n",
      "  return -np.sum(np.log(k_gen_fitting.k_gen_dens(x,*params)))\n",
      "/Library/Frameworks/Python.framework/Versions/3.12/lib/python3.12/site-packages/scipy/optimize/_numdiff.py:590: RuntimeWarning: invalid value encountered in subtract\n",
      "  df = fun(x) - f0\n"
     ]
    },
    {
     "name": "stdout",
     "output_type": "stream",
     "text": [
      "0.0 0.0\n",
      "0.23 0.11\n",
      "84\n"
     ]
    },
    {
     "name": "stderr",
     "output_type": "stream",
     "text": [
      "[*********************100%%**********************]  1 of 1 completed\n",
      "[*********************100%%**********************]  1 of 1 completed\n"
     ]
    },
    {
     "name": "stdout",
     "output_type": "stream",
     "text": [
      "0.0 0.0\n",
      "0.12 0.0\n",
      "85\n"
     ]
    },
    {
     "name": "stderr",
     "output_type": "stream",
     "text": [
      "[*********************100%%**********************]  1 of 1 completed\n",
      "[*********************100%%**********************]  1 of 1 completed\n",
      "/var/folders/pv/jsktch8x0vdg6f2rb7pcpzd40000gn/T/ipykernel_27783/2980152425.py:205: RuntimeWarning: divide by zero encountered in log\n",
      "  return -np.sum(np.log(k_gen_fitting.k_gen_dens(x,*params)))\n",
      "/Library/Frameworks/Python.framework/Versions/3.12/lib/python3.12/site-packages/scipy/optimize/_numdiff.py:590: RuntimeWarning: invalid value encountered in subtract\n",
      "  df = fun(x) - f0\n",
      "/var/folders/pv/jsktch8x0vdg6f2rb7pcpzd40000gn/T/ipykernel_27783/2980152425.py:97: RuntimeWarning: invalid value encountered in power\n",
      "  return (np.sqrt(1+k**2*x**2)+k*x)**(1/k)\n"
     ]
    },
    {
     "name": "stdout",
     "output_type": "stream",
     "text": [
      "0.0 0.0\n",
      "0.0 0.0\n",
      "86\n"
     ]
    },
    {
     "name": "stderr",
     "output_type": "stream",
     "text": [
      "[*********************100%%**********************]  1 of 1 completed\n",
      "[*********************100%%**********************]  1 of 1 completed\n"
     ]
    },
    {
     "name": "stdout",
     "output_type": "stream",
     "text": [
      "0.0 0.0\n",
      "0.02 0.01\n",
      "87\n"
     ]
    },
    {
     "name": "stderr",
     "output_type": "stream",
     "text": [
      "[*********************100%%**********************]  1 of 1 completed\n",
      "[*********************100%%**********************]  1 of 1 completed\n"
     ]
    },
    {
     "name": "stdout",
     "output_type": "stream",
     "text": [
      "0.01 0.0\n",
      "0.59 0.64\n",
      "88\n"
     ]
    },
    {
     "name": "stderr",
     "output_type": "stream",
     "text": [
      "[*********************100%%**********************]  1 of 1 completed\n",
      "[*********************100%%**********************]  1 of 1 completed\n"
     ]
    },
    {
     "name": "stdout",
     "output_type": "stream",
     "text": [
      "0.13 0.0\n",
      "0.09 0.34\n",
      "89\n"
     ]
    },
    {
     "name": "stderr",
     "output_type": "stream",
     "text": [
      "[*********************100%%**********************]  1 of 1 completed\n",
      "[*********************100%%**********************]  1 of 1 completed\n"
     ]
    },
    {
     "name": "stdout",
     "output_type": "stream",
     "text": [
      "0.0 0.0\n",
      "0.61 0.01\n",
      "90\n"
     ]
    },
    {
     "name": "stderr",
     "output_type": "stream",
     "text": [
      "[*********************100%%**********************]  1 of 1 completed\n",
      "[*********************100%%**********************]  1 of 1 completed\n"
     ]
    },
    {
     "name": "stdout",
     "output_type": "stream",
     "text": [
      "0.19 0.01\n",
      "0.19 0.29\n",
      "91\n"
     ]
    },
    {
     "name": "stderr",
     "output_type": "stream",
     "text": [
      "[*********************100%%**********************]  1 of 1 completed\n",
      "[*********************100%%**********************]  1 of 1 completed\n"
     ]
    },
    {
     "name": "stdout",
     "output_type": "stream",
     "text": [
      "0.0 0.0\n",
      "0.02 0.6\n",
      "92\n"
     ]
    },
    {
     "name": "stderr",
     "output_type": "stream",
     "text": [
      "[*********************100%%**********************]  1 of 1 completed\n",
      "[*********************100%%**********************]  1 of 1 completed\n"
     ]
    },
    {
     "name": "stdout",
     "output_type": "stream",
     "text": [
      "0.02 0.05\n",
      "0.0 0.0\n",
      "93\n"
     ]
    },
    {
     "name": "stderr",
     "output_type": "stream",
     "text": [
      "[*********************100%%**********************]  1 of 1 completed\n",
      "[*********************100%%**********************]  1 of 1 completed\n"
     ]
    },
    {
     "name": "stdout",
     "output_type": "stream",
     "text": [
      "0.0 0.0\n",
      "0.06 0.07\n",
      "94\n"
     ]
    },
    {
     "name": "stderr",
     "output_type": "stream",
     "text": [
      "[*********************100%%**********************]  1 of 1 completed\n",
      "[*********************100%%**********************]  1 of 1 completed\n"
     ]
    },
    {
     "name": "stdout",
     "output_type": "stream",
     "text": [
      "0.0 0.02\n",
      "0.24 0.37\n",
      "95\n"
     ]
    },
    {
     "name": "stderr",
     "output_type": "stream",
     "text": [
      "[*********************100%%**********************]  1 of 1 completed\n",
      "[*********************100%%**********************]  1 of 1 completed\n"
     ]
    },
    {
     "name": "stdout",
     "output_type": "stream",
     "text": [
      "0.01 0.01\n",
      "0.0 0.0\n",
      "96\n"
     ]
    },
    {
     "name": "stderr",
     "output_type": "stream",
     "text": [
      "[*********************100%%**********************]  1 of 1 completed\n",
      "[*********************100%%**********************]  1 of 1 completed\n"
     ]
    },
    {
     "name": "stdout",
     "output_type": "stream",
     "text": [
      "0.0 0.0\n",
      "0.23 0.4\n",
      "97\n"
     ]
    },
    {
     "name": "stderr",
     "output_type": "stream",
     "text": [
      "[*********************100%%**********************]  1 of 1 completed\n",
      "[*********************100%%**********************]  1 of 1 completed\n"
     ]
    },
    {
     "name": "stdout",
     "output_type": "stream",
     "text": [
      "0.01 0.01\n",
      "0.71 0.14\n",
      "98\n"
     ]
    },
    {
     "name": "stderr",
     "output_type": "stream",
     "text": [
      "[*********************100%%**********************]  1 of 1 completed\n",
      "[*********************100%%**********************]  1 of 1 completed\n",
      "/var/folders/pv/jsktch8x0vdg6f2rb7pcpzd40000gn/T/ipykernel_27783/2980152425.py:205: RuntimeWarning: divide by zero encountered in log\n",
      "  return -np.sum(np.log(k_gen_fitting.k_gen_dens(x,*params)))\n",
      "/Library/Frameworks/Python.framework/Versions/3.12/lib/python3.12/site-packages/scipy/optimize/_numdiff.py:590: RuntimeWarning: invalid value encountered in subtract\n",
      "  df = fun(x) - f0\n"
     ]
    },
    {
     "name": "stdout",
     "output_type": "stream",
     "text": [
      "0.01 0.0\n",
      "0.0 0.0\n",
      "99\n",
      "CPU times: user 22min 55s, sys: 1min 23s, total: 24min 19s\n",
      "Wall time: 25min 4s\n"
     ]
    }
   ],
   "source": [
    "%%time\n",
    "'''\n",
    "Get estimated p-values of k-generalised fit to FTSE 100 and Nasdaq top 100 stocks.\n",
    "Takes around 25 mins.\n",
    "'''\n",
    "p_values_FTSE100, p_values_Nasdaq100 = [], [] # Initialise arrays to store FTSE 100 and Nasdaq top 100 stock name with corresponding p-values\n",
    "N=100 # Number of simulations to generate estimated p-value\n",
    "for i in range(100):\n",
    "    stock = FTSE100_stocks1[i]\n",
    "    stock1 = Nasdaq100_stocks[i]\n",
    "    data = yf.download(stock, period=\"max\")\n",
    "    data1 = yf.download(stock1, period=\"max\")\n",
    "    p_value_neg, p_value_pos = p_values_k_gen_fits(N,data) # p-values FTSE 100\n",
    "    p_value_neg1, p_value_pos1 = p_values_k_gen_fits(N,data1) # p-values Nasdaq top 100\n",
    "    print(p_value_neg, p_value_pos)\n",
    "    print(p_value_neg1, p_value_pos1)\n",
    "    p_values_FTSE100.append([stock, p_value_neg, p_value_pos])\n",
    "    p_values_Nasdaq100.append([stock1, p_value_neg1, p_value_pos1])\n",
    "    print(i)"
   ]
  },
  {
   "cell_type": "markdown",
   "id": "ac7b628f-6000-4342-ba36-f9f7f7c0917a",
   "metadata": {},
   "source": [
    "0.66 0.75\n",
    "0.01 0.06\n",
    "0\n",
    "\n",
    "0.43 0.2\n",
    "0.71 0.63\n",
    "1\n",
    "\n",
    "0.0 0.0\n",
    "0.01 0.03\n",
    "2\n",
    "\n",
    "0.0 0.17\n",
    "0.14 0.0\n",
    "3\n",
    "\n",
    "0.0 0.0\n",
    "0.0 0.0\n",
    "4\n",
    "\n",
    "0.0 0.0\n",
    "0.42 0.03\n",
    "5\n",
    "\n",
    "0.19 0.04\n",
    "0.0 0.0\n",
    "6"
   ]
  },
  {
   "cell_type": "code",
   "execution_count": 17,
   "id": "ffac21c0-3aed-4d61-a03e-55a46580cd1e",
   "metadata": {},
   "outputs": [],
   "source": [
    "'''\n",
    "Put p-values into data frame\n",
    "'''\n",
    "column_names = ['Stock', 'Neg. log-return p-value', 'Pos. log-return p-value'] # Column names\n",
    "p_values_FTSE100d = pd.DataFrame(p_values_FTSE100, columns = column_names)\n",
    "p_values_Nasdaq100d = pd.DataFrame(p_values_Nasdaq100, columns = column_names)"
   ]
  },
  {
   "cell_type": "code",
   "execution_count": 18,
   "id": "abe952c6-d50d-41bb-8ad8-6e881690e411",
   "metadata": {
    "scrolled": true
   },
   "outputs": [
    {
     "name": "stdout",
     "output_type": "stream",
     "text": [
      "No. of significant FTSE 100 stocks negative tail: \n",
      "24\n",
      "\n",
      " No. of significant FTSE 100 stocks positive tail: \n",
      "33\n",
      "\n",
      " No. of significant FTSE 100 stocks both tails: \n",
      "18\n",
      "\n",
      " No. of significant FTSE 100 stocks either tail: \n",
      "39\n",
      "\n",
      " No. of significant Nasdaq top 100 stocks negative tail: \n",
      "54\n",
      "\n",
      " No. of significant Nasdaq top 100 stocks positive tail: \n",
      "58\n",
      "\n",
      " No. of significant Nasdaq top 100 stocks both tails: \n",
      "43\n",
      "\n",
      " No. of significant Nasdaq top 100 stocks either tail: \n",
      "69\n"
     ]
    }
   ],
   "source": [
    "'''\n",
    "Number of significant p-values (> alpha = 0.1)\n",
    "'''\n",
    "alpha = 0.1\n",
    "ind_p_values_FTSE100_neg = np.where(p_values_FTSE100d['Neg. log-return p-value']>alpha)[0]\n",
    "ind_p_values_FTSE100_pos = np.where(p_values_FTSE100d['Pos. log-return p-value']>alpha)[0]\n",
    "ind_p_values_FTSE100_both = list(set(ind_p_values_FTSE100_neg) & set(ind_p_values_FTSE100_pos))\n",
    "ind_p_values_FTSE100_either = list(set(np.concatenate((ind_p_values_FTSE100_neg,ind_p_values_FTSE100_pos))))\n",
    "\n",
    "ind_p_values_Nasdaq100_neg = np.where(p_values_Nasdaq100d['Neg. log-return p-value']>alpha)[0]\n",
    "ind_p_values_Nasdaq100_pos = np.where(p_values_Nasdaq100d['Pos. log-return p-value']>alpha)[0]\n",
    "ind_p_values_Nasdaq100_both = list(set(ind_p_values_Nasdaq100_neg) & set(ind_p_values_Nasdaq100_pos))\n",
    "ind_p_values_Nasdaq100_either = list(set(np.concatenate((ind_p_values_Nasdaq100_neg,ind_p_values_Nasdaq100_pos))))\n",
    "\n",
    "print('No. of significant FTSE 100 stocks negative tail: ')\n",
    "print(len(ind_p_values_FTSE100_neg))\n",
    "print('\\n No. of significant FTSE 100 stocks positive tail: ')\n",
    "print(len(ind_p_values_FTSE100_pos))\n",
    "print('\\n No. of significant FTSE 100 stocks both tails: ')\n",
    "print(len(ind_p_values_FTSE100_both))\n",
    "print('\\n No. of significant FTSE 100 stocks either tail: ')\n",
    "print(len(ind_p_values_FTSE100_either))\n",
    "\n",
    "print('\\n No. of significant Nasdaq top 100 stocks negative tail: ')\n",
    "print(len(ind_p_values_Nasdaq100_neg))\n",
    "print('\\n No. of significant Nasdaq top 100 stocks positive tail: ')\n",
    "print(len(ind_p_values_Nasdaq100_pos))\n",
    "print('\\n No. of significant Nasdaq top 100 stocks both tails: ')\n",
    "print(len(ind_p_values_Nasdaq100_both))\n",
    "print('\\n No. of significant Nasdaq top 100 stocks either tail: ')\n",
    "print(len(ind_p_values_Nasdaq100_either))"
   ]
  },
  {
   "cell_type": "markdown",
   "id": "4011044e-3a3e-4dd8-8858-21016c67b001",
   "metadata": {},
   "source": [
    "No. of significant FTSE 100 stocks negative tail: \n",
    "24\n",
    "\n",
    " No. of significant FTSE 100 stocks positive tail: \n",
    "33\n",
    "\n",
    " No. of significant FTSE 100 stocks both tails: \n",
    "18\n",
    "\n",
    " No. of significant FTSE 100 stocks either tail: \n",
    "39\n",
    "\n",
    " No. of significant Nasdaq top 100 stocks negative tail: \n",
    "54\n",
    "\n",
    " No. of significant Nasdaq top 100 stocks positive tail: \n",
    "58\n",
    "\n",
    " No. of significant Nasdaq top 100 stocks both tails: \n",
    "43\n",
    "\n",
    " No. of significant Nasdaq top 100 stocks either tail: \n",
    "69\n"
   ]
  },
  {
   "cell_type": "code",
   "execution_count": 19,
   "id": "fce67c0b-8177-4e38-a624-b1b1cfdcb83d",
   "metadata": {},
   "outputs": [],
   "source": [
    "#Get stock codes into an array\n",
    "FTSE100_stocks=np.asarray(FTSE100_stocks)\n",
    "FTSE100_stocks1=np.asarray(FTSE100_stocks1)\n",
    "Nasdaq100_stocks=np.asarray(Nasdaq100_stocks)"
   ]
  },
  {
   "cell_type": "code",
   "execution_count": 20,
   "id": "98c3b24c-66a7-4012-b7f6-a12beae43fa9",
   "metadata": {
    "scrolled": true
   },
   "outputs": [
    {
     "name": "stdout",
     "output_type": "stream",
     "text": [
      "Significant FTSE 100 stocks negative tail:\n",
      "['AAF' 'AAL' 'AUTO' 'AZN' 'BME' 'BRBY' 'CTEC' 'DCC' 'EXPN' 'EZJ' 'FLTR'\n",
      " 'FRES' 'GLEN' 'HLN' 'IAG' 'LLOY' 'LSEG' 'MNDI' 'MNG' 'OCDO' 'SHEL' 'SKG'\n",
      " 'STJ' 'TSCO']\n",
      "\n",
      " Significant FTSE 100 stocks positive tail:\n",
      "['AAF' 'AAL' 'ADM' 'AZN' 'BATS' 'BME' 'BP.' 'BRBY' 'BT.A' 'CCH' 'CNA'\n",
      " 'CTEC' 'DCC' 'EXPN' 'FLTR' 'FRAS' 'FRES' 'GLEN' 'GSK' 'HIK' 'HLN' 'IAG'\n",
      " 'IHG' 'IMB' 'ITRK' 'MNDI' 'MNG' 'NXT' 'OCDO' 'PHNX' 'RMV' 'SHEL' 'SKG']\n",
      "\n",
      " Significant FTSE 100 stocks both tails:\n",
      "['AAF' 'AAL' 'FLTR' 'FRES' 'GLEN' 'HLN' 'AZN' 'IAG' 'BME' 'SHEL' 'SKG'\n",
      " 'BRBY' 'OCDO' 'CTEC' 'DCC' 'MNG' 'EXPN' 'MNDI']\n",
      "\n",
      " Significant FTSE 100 stocks either tail:\n",
      "['AAF' 'AAL' 'ADM' 'AUTO' 'AZN' 'BATS' 'BME' 'BP.' 'BRBY' 'BT.A' 'CCH'\n",
      " 'CNA' 'CTEC' 'DCC' 'EXPN' 'EZJ' 'FLTR' 'FRAS' 'FRES' 'GLEN' 'GSK' 'HIK'\n",
      " 'HLN' 'IAG' 'IHG' 'IMB' 'ITRK' 'LLOY' 'LSEG' 'MNDI' 'MNG' 'NXT' 'OCDO'\n",
      " 'PHNX' 'RMV' 'SHEL' 'SKG' 'STJ' 'TSCO']\n",
      "\n",
      " Significant Nasdaq top 100 stocks negative tail: \n",
      "['ABNB' 'ADI' 'ADSK' 'AMZN' 'ANSS' 'AVGO' 'AZN' 'BIIB' 'CDW' 'CEG' 'CHTR'\n",
      " 'CPRT' 'CSGP' 'CTSH' 'DDOG' 'DLTR' 'FANG' 'FAST' 'FTNT' 'GEHC' 'GFS'\n",
      " 'GILD' 'GOOG' 'GOOGL' 'IDXX' 'ILMN' 'ISRG' 'KDP' 'KHC' 'LIN' 'LULU'\n",
      " 'MCHP' 'MDB' 'MDLZ' 'MELI' 'META' 'MRNA' 'MRVL' 'NFLX' 'NVDA' 'ORLY'\n",
      " 'PANW' 'PAYX' 'PDD' 'PYPL' 'ROP' 'ROST' 'SBUX' 'TEAM' 'TSLA' 'TTD' 'VRTX'\n",
      " 'WBD' 'WDAY']\n",
      "\n",
      " Significant Nasdaq top 100 stocks positive tail:\n",
      "['ABNB' 'AMGN' 'AMZN' 'ANSS' 'ASML' 'AVGO' 'AZN' 'BKNG' 'BKR' 'CDW' 'CEG'\n",
      " 'CHTR' 'CPRT' 'CRWD' 'CSCO' 'CSGP' 'CTSH' 'DASH' 'DDOG' 'DLTR' 'DXCM'\n",
      " 'FANG' 'FAST' 'FTNT' 'GEHC' 'GFS' 'GOOGL' 'ILMN' 'INTU' 'ISRG' 'KDP'\n",
      " 'KHC' 'LIN' 'LULU' 'MAR' 'MDB' 'MDLZ' 'MELI' 'MRNA' 'MRVL' 'MSFT' 'NFLX'\n",
      " 'NVDA' 'ON' 'ORLY' 'PANW' 'PDD' 'PYPL' 'QCOM' 'ROP' 'ROST' 'TEAM' 'TMUS'\n",
      " 'TTD' 'TTWO' 'VRTX' 'WBD' 'WDAY']\n",
      "\n",
      " Significant Nasdaq top 100 stocks both tails:\n",
      "['ABNB' 'AMZN' 'ANSS' 'AVGO' 'AZN' 'CDW' 'CEG' 'CHTR' 'CPRT' 'CSGP' 'CTSH'\n",
      " 'DDOG' 'DLTR' 'FANG' 'FAST' 'FTNT' 'GEHC' 'GFS' 'GOOGL' 'ILMN' 'ISRG'\n",
      " 'KDP' 'KHC' 'LIN' 'LULU' 'MDB' 'MDLZ' 'MELI' 'MRNA' 'MRVL' 'NFLX' 'NVDA'\n",
      " 'ORLY' 'PANW' 'PDD' 'PYPL' 'ROP' 'ROST' 'TEAM' 'TTD' 'VRTX' 'WBD' 'WDAY']\n",
      "\n",
      " Significant Nasdaq top 100 stocks either tail:\n",
      "['ABNB' 'ADI' 'ADSK' 'AMGN' 'AMZN' 'ANSS' 'ASML' 'AVGO' 'AZN' 'BIIB'\n",
      " 'BKNG' 'BKR' 'CDW' 'CEG' 'CHTR' 'CPRT' 'CRWD' 'CSCO' 'CSGP' 'CTSH' 'DASH'\n",
      " 'DDOG' 'DLTR' 'DXCM' 'FANG' 'FAST' 'FTNT' 'GEHC' 'GFS' 'GILD' 'GOOG'\n",
      " 'GOOGL' 'IDXX' 'ILMN' 'INTU' 'ISRG' 'KDP' 'KHC' 'LIN' 'LULU' 'MAR' 'MCHP'\n",
      " 'MDB' 'MDLZ' 'MELI' 'META' 'MRNA' 'MRVL' 'MSFT' 'NFLX' 'NVDA' 'ON' 'ORLY'\n",
      " 'PANW' 'PAYX' 'PDD' 'PYPL' 'QCOM' 'ROP' 'ROST' 'SBUX' 'TEAM' 'TMUS'\n",
      " 'TSLA' 'TTD' 'TTWO' 'VRTX' 'WBD' 'WDAY']\n"
     ]
    }
   ],
   "source": [
    "# Print stock codes that are significantly fitted by k-gen. for negative and positive tail\n",
    "print('Significant FTSE 100 stocks negative tail:')\n",
    "print(FTSE100_stocks[ind_p_values_FTSE100_neg])\n",
    "print('\\n Significant FTSE 100 stocks positive tail:')\n",
    "print(FTSE100_stocks[ind_p_values_FTSE100_pos])\n",
    "print('\\n Significant FTSE 100 stocks both tails:')\n",
    "print(FTSE100_stocks[ind_p_values_FTSE100_both])\n",
    "print('\\n Significant FTSE 100 stocks either tail:')\n",
    "print(FTSE100_stocks[ind_p_values_FTSE100_either])\n",
    "\n",
    "print('\\n Significant Nasdaq top 100 stocks negative tail: ')\n",
    "print(Nasdaq100_stocks[ind_p_values_Nasdaq100_neg])\n",
    "print('\\n Significant Nasdaq top 100 stocks positive tail:')\n",
    "print(Nasdaq100_stocks[ind_p_values_Nasdaq100_pos])\n",
    "print('\\n Significant Nasdaq top 100 stocks both tails:')\n",
    "print(Nasdaq100_stocks[ind_p_values_Nasdaq100_both])\n",
    "print('\\n Significant Nasdaq top 100 stocks either tail:')\n",
    "print(Nasdaq100_stocks[ind_p_values_Nasdaq100_either])"
   ]
  },
  {
   "cell_type": "code",
   "execution_count": 21,
   "id": "f352f979-f398-4f92-946f-01f60fbfdbe7",
   "metadata": {},
   "outputs": [],
   "source": [
    "# Find the power law exponents for the heavy-tailed stable and k-gen. fits\n",
    "FTSE100_ht_stable_alphas = []\n",
    "FTSE100_k_gen_nt_pl_exps = []\n",
    "FTSE100_k_gen_pt_pl_exps = []\n",
    "\n",
    "Nasdaq100_ht_stable_alphas = []\n",
    "Nasdaq100_k_gen_nt_pl_exps = []\n",
    "Nasdaq100_k_gen_pt_pl_exps = []\n",
    "\n",
    "for i in range(len(ind_p_values_FTSE100_both)):\n",
    "    ht_stable_alpha = params_FTSE100[ind_p_values_FTSE100_both][i][1][0]\n",
    "    k_gen_nt_pl_exp = params_FTSE100[ind_p_values_FTSE100_both][i][2][1]/params_FTSE100[ind_p_values_FTSE100_both][i][2][0]\n",
    "    k_gen_pt_pl_exp = params_FTSE100[ind_p_values_FTSE100_both][i][3][1]/params_FTSE100[ind_p_values_FTSE100_both][i][3][0]\n",
    "    FTSE100_ht_stable_alphas.append(ht_stable_alpha)\n",
    "    FTSE100_k_gen_nt_pl_exps.append(k_gen_nt_pl_exp)\n",
    "    FTSE100_k_gen_pt_pl_exps.append(k_gen_pt_pl_exp)\n",
    "\n",
    "for i in range(len(ind_p_values_Nasdaq100_both)):\n",
    "    ht_stable_alpha = params_Nasdaq100[ind_p_values_Nasdaq100_both][i][1][0]\n",
    "    k_gen_nt_pl_exp = params_Nasdaq100[ind_p_values_Nasdaq100_both][i][2][1]/params_Nasdaq100[ind_p_values_Nasdaq100_both][i][2][0]\n",
    "    k_gen_pt_pl_exp = params_Nasdaq100[ind_p_values_Nasdaq100_both][i][3][1]/params_Nasdaq100[ind_p_values_Nasdaq100_both][i][3][0]\n",
    "    Nasdaq100_ht_stable_alphas.append(ht_stable_alpha)\n",
    "    Nasdaq100_k_gen_nt_pl_exps.append(k_gen_nt_pl_exp)\n",
    "    Nasdaq100_k_gen_pt_pl_exps.append(k_gen_pt_pl_exp)"
   ]
  },
  {
   "cell_type": "code",
   "execution_count": 22,
   "id": "d818d83b-c237-4010-a19c-2c535cccfe65",
   "metadata": {},
   "outputs": [
    {
     "data": {
      "image/png": "[encoded data removed]",
      "text/plain": [
       "<Figure size 800x500 with 6 Axes>"
      ]
     },
     "metadata": {},
     "output_type": "display_data"
    }
   ],
   "source": [
    "# Plot a histogram for the power law exponents for the heavy-tailed stable and k-gen. fits\n",
    "fig, ax = plt.subplots(3, 2, figsize=(8,5))\n",
    "\n",
    "n_bins = 20\n",
    "font_sizes = [10,10,10,10,10]\n",
    "leg = 1\n",
    "labels=[r'$\\alpha$','Density',font_sizes,leg]\n",
    "labels1=['Pl exponent','Density',font_sizes,leg]\n",
    "\n",
    "ax[0,0].hist(FTSE100_ht_stable_alphas, bins=n_bins, rwidth=0.85, density = True, label = r'HT stable $\\alpha$ FTSE 100')\n",
    "plotting(ax[0,0],*labels).add_labels()\n",
    "\n",
    "ax[0,1].hist(Nasdaq100_ht_stable_alphas, bins=n_bins, rwidth=0.85, density = True, label = r'HT stable $\\alpha$ Nasdaq top 100')\n",
    "plotting(ax[0,1],*labels).add_labels()\n",
    "\n",
    "ax[1,0].hist(FTSE100_k_gen_nt_pl_exps, bins=n_bins, rwidth=0.85, density = True, label = r'$\\kappa$-gen. exponent neg. tail FTSE 100')\n",
    "plotting(ax[1,0],*labels1).add_labels()\n",
    "\n",
    "ax[1,1].hist(Nasdaq100_k_gen_nt_pl_exps, bins=n_bins, rwidth=0.85, density = True, label = r'$\\kappa$-gen. exponent neg. tail Nasdaq 100')\n",
    "plotting(ax[1,1],*labels1).add_labels()\n",
    "\n",
    "ax[2,0].hist(FTSE100_k_gen_pt_pl_exps, bins=n_bins, rwidth=0.85, density = True, label = r'$\\kappa$-gen. exponent pos. tail FTSE 100')\n",
    "plotting(ax[2,0],*labels1).add_labels()\n",
    "\n",
    "ax[2,1].hist(Nasdaq100_k_gen_pt_pl_exps, bins=n_bins, rwidth=0.85, density = True, label = r'$\\kappa$-gen. exponent pos. tail Nasdaq 100')\n",
    "plotting(ax[2,1],*labels1).add_labels()\n",
    "\n",
    "plt.tight_layout()"
   ]
  },
  {
   "cell_type": "code",
   "execution_count": 23,
   "id": "f324447b-b8db-4122-aa8f-c462e7ee1c86",
   "metadata": {},
   "outputs": [
    {
     "name": "stderr",
     "output_type": "stream",
     "text": [
      "[*********************100%%**********************]  1 of 1 completed"
     ]
    },
    {
     "name": "stdout",
     "output_type": "stream",
     "text": [
      "AAF.L AMZN\n"
     ]
    },
    {
     "name": "stderr",
     "output_type": "stream",
     "text": [
      "\n",
      "[*********************100%%**********************]  1 of 1 completed\n"
     ]
    },
    {
     "name": "stdout",
     "output_type": "stream",
     "text": [
      "GBp USD\n"
     ]
    }
   ],
   "source": [
    "# Test stocks that are significant in both tails from FTSE 100 and Nasdaq top 100\n",
    "i1 = 0\n",
    "i2 = 1\n",
    "stock1 = FTSE100_stocks1[ind_p_values_FTSE100_both][i1]\n",
    "stock2 = Nasdaq100_stocks[ind_p_values_Nasdaq100_both][i2]\n",
    "print(stock1, stock2)\n",
    "data1 = yf.download(stock1, period=\"max\")\n",
    "data2 = yf.download(stock2, period=\"max\")\n",
    "\n",
    "currency1 = yf.Ticker(stock1).info['currency']\n",
    "currency2 = yf.Ticker(stock2).info['currency']\n",
    "print(currency1, currency2)"
   ]
  },
  {
   "cell_type": "code",
   "execution_count": 24,
   "id": "97582929-be6a-4853-ae37-a9b19c24b2f9",
   "metadata": {},
   "outputs": [
    {
     "data": {
      "image/png": "[encoded data removed]",
      "text/plain": [
       "<Figure size 1000x500 with 4 Axes>"
      ]
     },
     "metadata": {},
     "output_type": "display_data"
    }
   ],
   "source": [
    "# Plot tails for FTSE\n",
    "plot_stock_info(data1,stock1)\n",
    "# plt.savefig(f'./plots/{stock1}.png', bbox_inches='tight')"
   ]
  },
  {
   "cell_type": "code",
   "execution_count": 28,
   "id": "8df6b8dd-63a2-4e7a-8635-493cc110b102",
   "metadata": {},
   "outputs": [
    {
     "data": {
      "image/png": "[encoded data removed]",
      "text/plain": [
       "<Figure size 1000x500 with 4 Axes>"
      ]
     },
     "metadata": {},
     "output_type": "display_data"
    }
   ],
   "source": [
    "# Plot tails for Nasdaq\n",
    "plot_stock_info(data2,stock2)\n",
    "# plt.savefig(f'./plots/{stock2}.png', bbox_inches='tight')"
   ]
  },
  {
   "cell_type": "code",
   "execution_count": 26,
   "id": "722fc8ee-b592-481c-aa8a-48ad1fe62ac0",
   "metadata": {},
   "outputs": [],
   "source": [
    "# Get dates and stock prices\n",
    "dates1, difference_in_years1, stock_prices1 = get_stock_prices_dates(data1)\n",
    "dates2, difference_in_years2, stock_prices2 = get_stock_prices_dates(data2)"
   ]
  },
  {
   "cell_type": "code",
   "execution_count": 27,
   "id": "178cf3e1-11b5-4e1c-9932-81d4e397a6a0",
   "metadata": {},
   "outputs": [
    {
     "name": "stdout",
     "output_type": "stream",
     "text": [
      "CPU times: user 2.63 s, sys: 20.3 ms, total: 2.65 s\n",
      "Wall time: 2.67 s\n"
     ]
    },
    {
     "data": {
      "image/png": "[encoded data removed]",
      "text/plain": [
       "<Figure size 1000x300 with 2 Axes>"
      ]
     },
     "metadata": {},
     "output_type": "display_data"
    }
   ],
   "source": [
    "%%time\n",
    "# Generate stock prices for the above two stocks\n",
    "fig, ax = plt.subplots(1, 2, figsize=(10,3))\n",
    "\n",
    "font_sizes = [10,10,10,10,10]\n",
    "\n",
    "for i in range(10):\n",
    "    stock_gen1 = generate_stock_values(data1)\n",
    "    stock_gen2 = generate_stock_values(data2)\n",
    "    ax[0].plot(dates1,stock_gen1)\n",
    "    ax[1].plot(dates2,stock_gen2)\n",
    "\n",
    "ax[0].plot(dates1,stock_prices1,color='black',label=stock1)\n",
    "leg=1\n",
    "labels=[r'$t$',r'$S_t$',font_sizes,leg]\n",
    "plotting(ax[0],*labels).add_labels()\n",
    "ax[0].set_yscale('log')\n",
    "\n",
    "ax[1].plot(dates2,stock_prices2,color='black',label=stock2)\n",
    "leg=1\n",
    "labels=[r'$t$',r'$S_t$',font_sizes,leg]\n",
    "plotting(ax[1],*labels).add_labels()\n",
    "ax[1].set_yscale('log')"
   ]
  },
  {
   "cell_type": "code",
   "execution_count": null,
   "id": "6a4be970-4392-4ea0-89c7-85cdfcac97bc",
   "metadata": {},
   "outputs": [],
   "source": []
  }
 ],
 "metadata": {
  "kernelspec": {
   "display_name": "Python 3 (ipykernel)",
   "language": "python",
   "name": "python3"
  },
  "language_info": {
   "codemirror_mode": {
    "name": "ipython",
    "version": 3
   },
   "file_extension": ".py",
   "mimetype": "text/x-python",
   "name": "python",
   "nbconvert_exporter": "python",
   "pygments_lexer": "ipython3",
   "version": "3.12.2"
  }
 },
 "nbformat": 4,
 "nbformat_minor": 5
}
